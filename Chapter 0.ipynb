{
 "cells": [
  {
   "cell_type": "markdown",
   "metadata": {
    "heading_collapsed": true
   },
   "source": [
    "# **Python (파이썬)**\n"
   ]
  },
  {
   "cell_type": "markdown",
   "metadata": {
    "hidden": true
   },
   "source": [
    "<br><br><br>\n",
    "사전적 의미: 뱀의 한 종류\n",
    "\n",
    "파이썬( Python)은 1991년 프로그래머인 귀도 반 로섬(Guido van Rossum)이 발표한 고급 프로그래밍 언어로,   \n",
    "플랫폼 독립적이며, 인터프리터식, 객체지향적, 동적 타이핑(dynamically typed) 언어다.  \n",
    "파이썬이라는 이름은 귀도가 좋아하는 코미디 〈Monty Python's Flying Circus〉에서 따온 것이다.\n",
    "\n",
    "<span style=\"color:red\">**파이썬은 크게 Python 2 와 Python 3 가 있으며, 본 수업에서는 Python 3를 사용한다.**<span>\n",
    "\n",
    "![](pic/pic0_3.jpg)\n",
    "\n",
    "![](pic/pic_1.png)\n",
    "<br><br><br><br>"
   ]
  },
  {
   "cell_type": "markdown",
   "metadata": {
    "heading_collapsed": true
   },
   "source": [
    "# **Anaconda**"
   ]
  },
  {
   "cell_type": "markdown",
   "metadata": {
    "hidden": true
   },
   "source": [
    "<br><br>\n",
    "사전적 의미: 뱀의 한 종류\n",
    "\n",
    "* a package manager  \n",
    "* an environment manager\n",
    "* a collection of over 720 open source packages\n",
    "* It is free and easy to install, and it offers free community support.\n",
    "\n",
    "![](pic/anaconda_logo.png)\n",
    "<br><br> <br><br>"
   ]
  },
  {
   "cell_type": "markdown",
   "metadata": {
    "heading_collapsed": true
   },
   "source": [
    "# **Jupyter Notebook**\n",
    "<br><br>"
   ]
  },
  {
   "cell_type": "markdown",
   "metadata": {
    "hidden": true
   },
   "source": [
    "**Jupyter**: &nbsp;&nbsp;**Ju**lia &nbsp;&nbsp;+ &nbsp;&nbsp;**Py**thon &nbsp;&nbsp;+ &nbsp;&nbsp;**R**  &nbsp;&nbsp;&nbsp;&nbsp;(참고: Jupiter(목성)\n",
    "\n",
    "Jupyter Notebook은 오픈 소스 웹 어플리케이션으로 프로그래밍 코드와 그 실행결과, 그리고풍부한 텍스트(일반 텍스트, 등식,그림, 표, 링크 등)를 포함한 문서를 만들수 있다.\n",
    "\n",
    "Jupyter Notebook은 Python, R, Julia, Scala 등 데이터과학 분야에서 인기있는 40종의 다양한 프로그래밍 언어를 지원한다.\n",
    "\n",
    "** Anaconda를 설치하면, Jupyter notebook은 저절로 설치된다. **\n",
    "\n",
    "![](pic/jupyter_logo.png)\n",
    "<br><br><br><br><br><br><br><br>"
   ]
  },
  {
   "cell_type": "markdown",
   "metadata": {
    "heading_collapsed": true
   },
   "source": [
    "# Anaconda 설치 \n",
    "<br><br><br><br>"
   ]
  },
  {
   "cell_type": "markdown",
   "metadata": {
    "hidden": true
   },
   "source": [
    "![](pic/anaconda_1.jpg)\n",
    "<br><br><br><br>\n",
    "<p style=\"color:red\">** - - - - - - - - - - - - - - - - - - - - - - - - - - - - - - - - - - - - - - - - - - - - - - - - - - - - - - - - - - - - - - - - - - - - - - - - - - - - - - - - - - - - - - - - - - - - - - - - - - - - - - - - - - - - - - - - - - -** <p>\n",
    "<br><br><br><br><br><br>\n",
    "![](pic/anaconda_2.jpg)\n",
    "<br><br><br><br>\n",
    "<p style=\"color:red\">** - - - - - - - - - - - - - - - - - - - - - - - - - - - - - - - - - - - - - - - - - - - - - - - - - - - - - - - - - - - - - - - - - - - - - - - - - - - - - - - - - - - - - - - - - - - - - - - - - - - - - - - - - - - - - - - - - - -** <p>\n",
    "![](pic/anaconda_3.jpg)\n",
    "<br><br><br><br><br><br>\n",
    "<p style=\"color:red\">** - - - - - - - - - - - - - - - - - - - - - - - - - - - - - - - - - - - - - - - - - - - - - - - - - - - - - - - - - - - - - - - - - - - - - - - - - - - - - - - - - - - - - - - - - - - - - - - - - - - - - - - - - - - - - - - - - - -** <p>\n",
    "<br><br><br><br>\n",
    "![](pic/anaconda_4.jpg)"
   ]
  },
  {
   "cell_type": "code",
   "execution_count": null,
   "metadata": {
    "hidden": true
   },
   "outputs": [],
   "source": []
  }
 ],
 "metadata": {
  "kernelspec": {
   "display_name": "Python 3",
   "language": "python",
   "name": "python3"
  },
  "language_info": {
   "codemirror_mode": {
    "name": "ipython",
    "version": 3
   },
   "file_extension": ".py",
   "mimetype": "text/x-python",
   "name": "python",
   "nbconvert_exporter": "python",
   "pygments_lexer": "ipython3",
   "version": "3.6.5"
  }
 },
 "nbformat": 4,
 "nbformat_minor": 2
}
