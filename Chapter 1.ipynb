{
 "cells": [
  {
   "cell_type": "markdown",
   "metadata": {},
   "source": [
    "![](pic/pic_1.png)\n",
    "<br>\n",
    "# **제 1장  변수(variable), 표현식(expression),  문장(statement)**  \n",
    "<br>\n"
   ]
  },
  {
   "cell_type": "markdown",
   "metadata": {
    "heading_collapsed": true
   },
   "source": [
    "## 1.  값(value)과 자료형(type)"
   ]
  },
  {
   "cell_type": "markdown",
   "metadata": {
    "hidden": true
   },
   "source": [
    "자료형(type): 정수, 문자열, 실수(소수점을 갖는) \n",
    "\n",
    "|  값의 예             |     자료형     | \n",
    "| :----------------- |  --------------| \n",
    "|  'Hello,World!'   | 문자열(string) |  \n",
    "|        2          | 정수(integer)  | \n",
    "|       3.5         | 실수(float)    |  \n",
    "\n",
    "\n"
   ]
  },
  {
   "cell_type": "markdown",
   "metadata": {
    "hidden": true
   },
   "source": [
    "자료형을 알려주는 함수: type( )  \n",
    "'Hello,World!'의 자료형은?"
   ]
  },
  {
   "cell_type": "code",
   "execution_count": 1,
   "metadata": {
    "hidden": true
   },
   "outputs": [
    {
     "data": {
      "text/plain": [
       "str"
      ]
     },
     "execution_count": 1,
     "metadata": {},
     "output_type": "execute_result"
    }
   ],
   "source": [
    "type('Hello,World!')"
   ]
  },
  {
   "cell_type": "markdown",
   "metadata": {
    "hidden": true
   },
   "source": [
    "<br><br>\n",
    "2 의 자료형은?"
   ]
  },
  {
   "cell_type": "code",
   "execution_count": 2,
   "metadata": {
    "hidden": true
   },
   "outputs": [
    {
     "data": {
      "text/plain": [
       "int"
      ]
     },
     "execution_count": 2,
     "metadata": {},
     "output_type": "execute_result"
    }
   ],
   "source": [
    "type(2)"
   ]
  },
  {
   "cell_type": "markdown",
   "metadata": {
    "hidden": true
   },
   "source": [
    "<br><br>\n",
    "3.5 의 자료형은?"
   ]
  },
  {
   "cell_type": "code",
   "execution_count": 3,
   "metadata": {
    "hidden": true
   },
   "outputs": [
    {
     "data": {
      "text/plain": [
       "float"
      ]
     },
     "execution_count": 3,
     "metadata": {},
     "output_type": "execute_result"
    }
   ],
   "source": [
    "type(3.5)"
   ]
  },
  {
   "cell_type": "markdown",
   "metadata": {
    "hidden": true
   },
   "source": [
    "<br><br>\n",
    "'a' 의 자료형은?"
   ]
  },
  {
   "cell_type": "code",
   "execution_count": 4,
   "metadata": {
    "hidden": true
   },
   "outputs": [
    {
     "data": {
      "text/plain": [
       "str"
      ]
     },
     "execution_count": 4,
     "metadata": {},
     "output_type": "execute_result"
    }
   ],
   "source": [
    "type('a')"
   ]
  },
  {
   "cell_type": "markdown",
   "metadata": {
    "hidden": true
   },
   "source": [
    "<br><br>'2' 의 자료형은?"
   ]
  },
  {
   "cell_type": "code",
   "execution_count": 5,
   "metadata": {
    "hidden": true
   },
   "outputs": [
    {
     "data": {
      "text/plain": [
       "str"
      ]
     },
     "execution_count": 5,
     "metadata": {},
     "output_type": "execute_result"
    }
   ],
   "source": [
    "type('2')"
   ]
  },
  {
   "cell_type": "markdown",
   "metadata": {
    "hidden": true
   },
   "source": [
    "이들 외에도 파이썬의 자료형은 더 있다.  \n",
    "tuple, list, dictionary, function 등 이 있으며, 추후에 설명 한다.\n",
    "<br>"
   ]
  },
  {
   "cell_type": "markdown",
   "metadata": {
    "heading_collapsed": true
   },
   "source": [
    "## 2.  변수(Variable)"
   ]
  },
  {
   "cell_type": "markdown",
   "metadata": {
    "hidden": true
   },
   "source": [
    "변수는 값을 참조하는 이름이다.  \n",
    "대입문(지정문, 배정문, Assignment statement)은 변수에 값을 준다(배정한다.)\n"
   ]
  },
  {
   "cell_type": "code",
   "execution_count": 6,
   "metadata": {
    "hidden": true
   },
   "outputs": [],
   "source": [
    "message = 'The 4th Industrail Revolution'\n",
    "n = 17\n",
    "pi = 3.1415926535897931"
   ]
  },
  {
   "cell_type": "markdown",
   "metadata": {
    "hidden": true
   },
   "source": [
    "<br><br>\n",
    "여기에서 = 기호는 기호 오른쪽의 값을 기호 왼쪽의 변수에 배정한다는 의미이다.  \n",
    "\n",
    "변수 값을 출력하기 위해서 print( )문을 사용한다.  \n",
    "변수 n 의 값을 인쇄해보자.\n"
   ]
  },
  {
   "cell_type": "code",
   "execution_count": 7,
   "metadata": {
    "hidden": true
   },
   "outputs": [
    {
     "name": "stdout",
     "output_type": "stream",
     "text": [
      "17\n"
     ]
    }
   ],
   "source": [
    "print(n)"
   ]
  },
  {
   "cell_type": "markdown",
   "metadata": {
    "hidden": true
   },
   "source": [
    "<br><br>\n",
    "그런데, 다음을 실행하면,"
   ]
  },
  {
   "cell_type": "code",
   "execution_count": 8,
   "metadata": {
    "hidden": true
   },
   "outputs": [
    {
     "data": {
      "text/plain": [
       "17"
      ]
     },
     "execution_count": 8,
     "metadata": {},
     "output_type": "execute_result"
    }
   ],
   "source": [
    "n"
   ]
  },
  {
   "cell_type": "code",
   "execution_count": 9,
   "metadata": {
    "hidden": true
   },
   "outputs": [],
   "source": [
    "x=5\n",
    "n\n",
    "y=3"
   ]
  },
  {
   "cell_type": "code",
   "execution_count": 10,
   "metadata": {
    "hidden": true
   },
   "outputs": [
    {
     "name": "stdout",
     "output_type": "stream",
     "text": [
      "9.9\n"
     ]
    }
   ],
   "source": [
    "x=3\n",
    "x=\"aaa\"\n",
    "x=9.9\n",
    "print(x)"
   ]
  },
  {
   "cell_type": "markdown",
   "metadata": {
    "hidden": true
   },
   "source": [
    "<br><br>\n",
    "변수는 왜 필요한가?  \n",
    "\n",
    "변수에 값을 저장해 놓았다가, 나중에 다시 사용하기 위함이다.  \n",
    "예를 들어 프로그래밍 코드의 첫번째 줄에서 사용자로부터 키보드 입력을 받는다고 하자.   \n",
    "사용자가 키보드로 \"서울\"이라고 타이핑을 했다고 하자.\n",
    "\n",
    "프로그래밍 코드의 두번째 줄에서, 사용자가 키보드로 무엇을 입력했던지 관계없이 입력한 내용을 그대로 프린팅 한다고 하면,  \n",
    "사용자가 키보드로 입력한 내용을 알고 있어야 프린팅을 할 수 있다.\n",
    "그 방법은 첫번째 줄에서 사용자가 입력한 내용을 변수에 저장한 다음, 두번째줄에서 변수에 저장된 내용을 인쇄하라고 하면 된다.\n"
   ]
  },
  {
   "cell_type": "markdown",
   "metadata": {
    "hidden": true
   },
   "source": [
    "<br><br>\n",
    "x = x + 1 은 수학적으로 맞지 않다.    \n",
    "그러나 컴퓨터 코딩에서는 다음 의미로 쓰인다.  \n",
    "= 의 왼쪽 x 의 (새로운) 값은, = 의 오른쪽 (지금의) x 값에 1을 더한 값으로 만들라.  "
   ]
  },
  {
   "cell_type": "code",
   "execution_count": 11,
   "metadata": {
    "hidden": true
   },
   "outputs": [
    {
     "name": "stdout",
     "output_type": "stream",
     "text": [
      "6\n"
     ]
    }
   ],
   "source": [
    "x = 5\n",
    "x = x + 1\n",
    "print(x)"
   ]
  },
  {
   "cell_type": "markdown",
   "metadata": {
    "hidden": true
   },
   "source": [
    "<br><br>\n",
    "변수 자료형(type)은 변수가 참조하는 값의 자료형이다.\n",
    "\n",
    "변수 x의 자료형은?"
   ]
  },
  {
   "cell_type": "code",
   "execution_count": 12,
   "metadata": {
    "hidden": true
   },
   "outputs": [
    {
     "data": {
      "text/plain": [
       "int"
      ]
     },
     "execution_count": 12,
     "metadata": {},
     "output_type": "execute_result"
    }
   ],
   "source": [
    "type(x)"
   ]
  },
  {
   "cell_type": "markdown",
   "metadata": {
    "hidden": true
   },
   "source": [
    "<br><br>\n",
    "변수 message 의 자료형은?"
   ]
  },
  {
   "cell_type": "code",
   "execution_count": 13,
   "metadata": {
    "hidden": true
   },
   "outputs": [
    {
     "data": {
      "text/plain": [
       "str"
      ]
     },
     "execution_count": 13,
     "metadata": {},
     "output_type": "execute_result"
    }
   ],
   "source": [
    "type(message)"
   ]
  },
  {
   "cell_type": "markdown",
   "metadata": {
    "heading_collapsed": true
   },
   "source": [
    "## 3.  변수 이름 과 예약어"
   ]
  },
  {
   "cell_type": "markdown",
   "metadata": {
    "collapsed": true,
    "hidden": true
   },
   "source": [
    "대체로 프로그래머는 의미있는 변수이름을 고른다.   \n",
    "변수명은 문자(letter)와 밑줄(\\_), 숫자를 포함할 수 있지만, 변수명은 문자나 밑줄로 작해야 한다.   \n",
    "첫 변수명을 대문자로 사용해도 되지만 소문자로 변수명을 시작하는 것도 좋은 생각이다. (후에 왜 그런지 보게 될 것이다.)  \n",
    "변수명에 밑줄(underscore character, \\_)이 들어갈 수 있다.   \n",
    "종종 my_name 혹은 airspeed_of_unladen_swallow처럼 밑줄은 여러 단어와 함께 사용된다.   \n",
    "변수명을 밑줄로 시작해서 작성할 수 있지만, 일반적으로 밑줄로 시작하는 변수명은 피한다.  \n",
    "변수명을 적합하게 작성하지 못하다면, 구문(문법) 오류가 발생한다.\n",
    "\n",
    "다음 문장들이 에러가 발생하는지 알아보자.\n"
   ]
  },
  {
   "cell_type": "code",
   "execution_count": 14,
   "metadata": {
    "hidden": true
   },
   "outputs": [],
   "source": [
    "x76 = 'samsung'"
   ]
  },
  {
   "cell_type": "code",
   "execution_count": 15,
   "metadata": {
    "hidden": true
   },
   "outputs": [
    {
     "ename": "SyntaxError",
     "evalue": "invalid syntax (<ipython-input-15-ee59a172c534>, line 1)",
     "output_type": "error",
     "traceback": [
      "\u001b[1;36m  File \u001b[1;32m\"<ipython-input-15-ee59a172c534>\"\u001b[1;36m, line \u001b[1;32m1\u001b[0m\n\u001b[1;33m    76trombones = 'big parade'\u001b[0m\n\u001b[1;37m              ^\u001b[0m\n\u001b[1;31mSyntaxError\u001b[0m\u001b[1;31m:\u001b[0m invalid syntax\n"
     ]
    }
   ],
   "source": [
    "76trombones = 'big parade'"
   ]
  },
  {
   "cell_type": "code",
   "execution_count": 16,
   "metadata": {
    "hidden": true
   },
   "outputs": [
    {
     "ename": "FileNotFoundError",
     "evalue": "[Errno 2] No such file or directory: '@ = 1000000'",
     "output_type": "error",
     "traceback": [
      "\u001b[1;31m---------------------------------------------------------------------------\u001b[0m",
      "\u001b[1;31mFileNotFoundError\u001b[0m                         Traceback (most recent call last)",
      "\u001b[1;32m<ipython-input-16-874d58278958>\u001b[0m in \u001b[0;36m<module>\u001b[1;34m()\u001b[0m\n\u001b[1;32m----> 1\u001b[1;33m \u001b[0mget_ipython\u001b[0m\u001b[1;33m(\u001b[0m\u001b[1;33m)\u001b[0m\u001b[1;33m.\u001b[0m\u001b[0mrun_line_magic\u001b[0m\u001b[1;33m(\u001b[0m\u001b[1;34m'more'\u001b[0m\u001b[1;33m,\u001b[0m \u001b[1;34m'@ = 1000000'\u001b[0m\u001b[1;33m)\u001b[0m\u001b[1;33m\u001b[0m\u001b[0m\n\u001b[0m",
      "\u001b[1;32mC:\\ProgramData\\Anaconda3\\lib\\site-packages\\IPython\\core\\interactiveshell.py\u001b[0m in \u001b[0;36mrun_line_magic\u001b[1;34m(self, magic_name, line, _stack_depth)\u001b[0m\n\u001b[0;32m   2129\u001b[0m                 \u001b[0mkwargs\u001b[0m\u001b[1;33m[\u001b[0m\u001b[1;34m'local_ns'\u001b[0m\u001b[1;33m]\u001b[0m \u001b[1;33m=\u001b[0m \u001b[0msys\u001b[0m\u001b[1;33m.\u001b[0m\u001b[0m_getframe\u001b[0m\u001b[1;33m(\u001b[0m\u001b[0mstack_depth\u001b[0m\u001b[1;33m)\u001b[0m\u001b[1;33m.\u001b[0m\u001b[0mf_locals\u001b[0m\u001b[1;33m\u001b[0m\u001b[0m\n\u001b[0;32m   2130\u001b[0m             \u001b[1;32mwith\u001b[0m \u001b[0mself\u001b[0m\u001b[1;33m.\u001b[0m\u001b[0mbuiltin_trap\u001b[0m\u001b[1;33m:\u001b[0m\u001b[1;33m\u001b[0m\u001b[0m\n\u001b[1;32m-> 2131\u001b[1;33m                 \u001b[0mresult\u001b[0m \u001b[1;33m=\u001b[0m \u001b[0mfn\u001b[0m\u001b[1;33m(\u001b[0m\u001b[1;33m*\u001b[0m\u001b[0margs\u001b[0m\u001b[1;33m,\u001b[0m\u001b[1;33m**\u001b[0m\u001b[0mkwargs\u001b[0m\u001b[1;33m)\u001b[0m\u001b[1;33m\u001b[0m\u001b[0m\n\u001b[0m\u001b[0;32m   2132\u001b[0m             \u001b[1;32mreturn\u001b[0m \u001b[0mresult\u001b[0m\u001b[1;33m\u001b[0m\u001b[0m\n\u001b[0;32m   2133\u001b[0m \u001b[1;33m\u001b[0m\u001b[0m\n",
      "\u001b[1;32m<decorator-gen-119>\u001b[0m in \u001b[0;36mless\u001b[1;34m(self, arg_s)\u001b[0m\n",
      "\u001b[1;32mC:\\ProgramData\\Anaconda3\\lib\\site-packages\\IPython\\core\\magic.py\u001b[0m in \u001b[0;36m<lambda>\u001b[1;34m(f, *a, **k)\u001b[0m\n\u001b[0;32m    185\u001b[0m     \u001b[1;31m# but it's overkill for just that one bit of state.\u001b[0m\u001b[1;33m\u001b[0m\u001b[1;33m\u001b[0m\u001b[0m\n\u001b[0;32m    186\u001b[0m     \u001b[1;32mdef\u001b[0m \u001b[0mmagic_deco\u001b[0m\u001b[1;33m(\u001b[0m\u001b[0marg\u001b[0m\u001b[1;33m)\u001b[0m\u001b[1;33m:\u001b[0m\u001b[1;33m\u001b[0m\u001b[0m\n\u001b[1;32m--> 187\u001b[1;33m         \u001b[0mcall\u001b[0m \u001b[1;33m=\u001b[0m \u001b[1;32mlambda\u001b[0m \u001b[0mf\u001b[0m\u001b[1;33m,\u001b[0m \u001b[1;33m*\u001b[0m\u001b[0ma\u001b[0m\u001b[1;33m,\u001b[0m \u001b[1;33m**\u001b[0m\u001b[0mk\u001b[0m\u001b[1;33m:\u001b[0m \u001b[0mf\u001b[0m\u001b[1;33m(\u001b[0m\u001b[1;33m*\u001b[0m\u001b[0ma\u001b[0m\u001b[1;33m,\u001b[0m \u001b[1;33m**\u001b[0m\u001b[0mk\u001b[0m\u001b[1;33m)\u001b[0m\u001b[1;33m\u001b[0m\u001b[0m\n\u001b[0m\u001b[0;32m    188\u001b[0m \u001b[1;33m\u001b[0m\u001b[0m\n\u001b[0;32m    189\u001b[0m         \u001b[1;32mif\u001b[0m \u001b[0mcallable\u001b[0m\u001b[1;33m(\u001b[0m\u001b[0marg\u001b[0m\u001b[1;33m)\u001b[0m\u001b[1;33m:\u001b[0m\u001b[1;33m\u001b[0m\u001b[0m\n",
      "\u001b[1;32mC:\\ProgramData\\Anaconda3\\lib\\site-packages\\ipykernel\\zmqshell.py\u001b[0m in \u001b[0;36mless\u001b[1;34m(self, arg_s)\u001b[0m\n\u001b[0;32m    340\u001b[0m             \u001b[0mcont\u001b[0m \u001b[1;33m=\u001b[0m \u001b[0mself\u001b[0m\u001b[1;33m.\u001b[0m\u001b[0mshell\u001b[0m\u001b[1;33m.\u001b[0m\u001b[0mpycolorize\u001b[0m\u001b[1;33m(\u001b[0m\u001b[0mopenpy\u001b[0m\u001b[1;33m.\u001b[0m\u001b[0mread_py_file\u001b[0m\u001b[1;33m(\u001b[0m\u001b[0marg_s\u001b[0m\u001b[1;33m,\u001b[0m \u001b[0mskip_encoding_cookie\u001b[0m\u001b[1;33m=\u001b[0m\u001b[1;32mFalse\u001b[0m\u001b[1;33m)\u001b[0m\u001b[1;33m)\u001b[0m\u001b[1;33m\u001b[0m\u001b[0m\n\u001b[0;32m    341\u001b[0m         \u001b[1;32melse\u001b[0m\u001b[1;33m:\u001b[0m\u001b[1;33m\u001b[0m\u001b[0m\n\u001b[1;32m--> 342\u001b[1;33m             \u001b[0mcont\u001b[0m \u001b[1;33m=\u001b[0m \u001b[0mopen\u001b[0m\u001b[1;33m(\u001b[0m\u001b[0marg_s\u001b[0m\u001b[1;33m)\u001b[0m\u001b[1;33m.\u001b[0m\u001b[0mread\u001b[0m\u001b[1;33m(\u001b[0m\u001b[1;33m)\u001b[0m\u001b[1;33m\u001b[0m\u001b[0m\n\u001b[0m\u001b[0;32m    343\u001b[0m         \u001b[0mpage\u001b[0m\u001b[1;33m.\u001b[0m\u001b[0mpage\u001b[0m\u001b[1;33m(\u001b[0m\u001b[0mcont\u001b[0m\u001b[1;33m)\u001b[0m\u001b[1;33m\u001b[0m\u001b[0m\n\u001b[0;32m    344\u001b[0m \u001b[1;33m\u001b[0m\u001b[0m\n",
      "\u001b[1;31mFileNotFoundError\u001b[0m: [Errno 2] No such file or directory: '@ = 1000000'"
     ]
    }
   ],
   "source": [
    "more@ = 1000000"
   ]
  },
  {
   "cell_type": "code",
   "execution_count": 17,
   "metadata": {
    "hidden": true
   },
   "outputs": [
    {
     "ename": "SyntaxError",
     "evalue": "invalid syntax (<ipython-input-17-73fc4ce1a15a>, line 1)",
     "output_type": "error",
     "traceback": [
      "\u001b[1;36m  File \u001b[1;32m\"<ipython-input-17-73fc4ce1a15a>\"\u001b[1;36m, line \u001b[1;32m1\u001b[0m\n\u001b[1;33m    class = 'Advanced Theoretical Zymurgy'\u001b[0m\n\u001b[1;37m          ^\u001b[0m\n\u001b[1;31mSyntaxError\u001b[0m\u001b[1;31m:\u001b[0m invalid syntax\n"
     ]
    }
   ],
   "source": [
    "class = 'Advanced Theoretical Zymurgy'"
   ]
  },
  {
   "cell_type": "markdown",
   "metadata": {
    "collapsed": true,
    "hidden": true
   },
   "source": [
    "\n",
    "76trombones 변수명은 문자로 시작하지 않아서 적합하지 않다.  \n",
    "more@은 특수문자 (@)를 변수명에 포함해서 적합하지 않다.  \n",
    "하지만, class 변수명은 뭐가 잘못된 것일까?  \n",
    "Syntax error의 이유는 class가 파이썬의 key word 중의 하나이기 때문이다.   \n",
    "Key word는 interpreter가 프로그램 구조를 파악하기 위해서 사용하는 단어로, 변수명으로는 사용할 수 없다.\n",
    "\n",
    "파이썬에서는 아래의 31개 key word를 사용하고 있다.\n"
   ]
  },
  {
   "cell_type": "markdown",
   "metadata": {
    "collapsed": true,
    "hidden": true
   },
   "source": [
    "**<pre>and \t\t   del \t\t from \t    not \t\t while\n",
    "as \t\t    elif \t\tglobal \t  or \t\t  with\n",
    "assert \t    else \t\tif \t\t  pass \t\tyield\n",
    "break \t\t except \t  import \t  print\n",
    "class \t\t exec \t\tin \t\t  raise\n",
    "continue \t  finally \t is           return\t\n",
    "def \t\t   for \t\t lambda       try</pre>**\n"
   ]
  },
  {
   "cell_type": "code",
   "execution_count": null,
   "metadata": {
    "hidden": true
   },
   "outputs": [],
   "source": []
  },
  {
   "cell_type": "markdown",
   "metadata": {
    "heading_collapsed": true
   },
   "source": [
    "## 4.  문장(Statement)  "
   ]
  },
  {
   "cell_type": "markdown",
   "metadata": {
    "collapsed": true,
    "hidden": true
   },
   "source": [
    "문장(statement)은 파이썬 Interpreter가 실행하는 코드의 단위로 하나의 action 이나 명령을 나타낸다.  \n",
    "인터랙트브 모드에서 문장을 입력하면, 인터프리터는 문장을 실행하고, 만약 출력할 것이 있다면 결과를 화면에 출력한다.  \n",
    "스크립트는 보통 여러 줄의 문장으로 구성된다. 하나 이상의 문장이 있다면, 문장이 실행되어감에 따라 결과가 나타난다. \n",
    "\n",
    "예를 들어, 다음의 스크립트를 생각해 보자.\n"
   ]
  },
  {
   "cell_type": "code",
   "execution_count": 18,
   "metadata": {
    "hidden": true
   },
   "outputs": [
    {
     "name": "stdout",
     "output_type": "stream",
     "text": [
      "1\n",
      "2\n"
     ]
    }
   ],
   "source": [
    "print(1)\n",
    "x = 2\n",
    "print(x)"
   ]
  },
  {
   "cell_type": "markdown",
   "metadata": {
    "hidden": true
   },
   "source": [
    "\n",
    "위 스크립트는 다음 결과를 출력한다.\n",
    "\n",
    "1  \n",
    "2\n",
    "\n",
    "대입 문장(x=2)은 결과를 출력하지 않는다.\n",
    "\n",
    "<span style=\"color:red\">x = 2 는 변수 x 에 값 2를 대입하라(저장하라, 배정하라)는 문장이다.\n"
   ]
  },
  {
   "cell_type": "markdown",
   "metadata": {
    "heading_collapsed": true
   },
   "source": [
    "## 5.  연산자(연산기호, Operator)와 피연산자(Operand)"
   ]
  },
  {
   "cell_type": "markdown",
   "metadata": {
    "hidden": true
   },
   "source": [
    "  \n",
    "연산자는 덧셈, 곱셈 같이 계산을 표현하는 기호이다.   \n",
    "연산자에 적용되는 값을 피연산자라고 한다.  \n",
    "\n",
    "수학 연산자로는 덧셈, 뺄셈, 곱셈, 나눗셈 연산자가 있다.  \n",
    "\n",
    " 2 + 3 에서 연산자는 + 이고, 피연산자는 2와 3 이다.\n",
    " \n",
    " hour에 2 + 3을 대입한 후, hour의 값을 인쇄하자.\n"
   ]
  },
  {
   "cell_type": "code",
   "execution_count": 19,
   "metadata": {
    "hidden": true
   },
   "outputs": [
    {
     "name": "stdout",
     "output_type": "stream",
     "text": [
      "5\n"
     ]
    }
   ],
   "source": [
    "hour = 2 + 3\n",
    "print(hour)"
   ]
  },
  {
   "cell_type": "markdown",
   "metadata": {
    "heading_collapsed": true
   },
   "source": [
    "## 6. 표현식 (Expression)"
   ]
  },
  {
   "cell_type": "markdown",
   "metadata": {
    "hidden": true
   },
   "source": [
    "\n",
    "표현식(expression)은 값, 변수, 연산자의 조합이다.  \n",
    "값은 자체로 표현식이고, 변수도 표현식이다.  \n",
    "따라서 다음은 적합한 표현식이다. (변수 x는 이미 어떤 값이 대입되었다고 가정한다.)\n",
    "\n",
    "17\n",
    "\n",
    "x\n",
    "\n",
    "x + 17\n",
    "\n",
    "Interactive mode에서 expression을 입력하면, interpreter는 expression을 평가(evaluate)\n",
    "하고 값을 표시한다.\n",
    "\n",
    "위 표현식을 한 셀에 하나씩 입력하고 실행해 보자"
   ]
  },
  {
   "cell_type": "code",
   "execution_count": 21,
   "metadata": {
    "hidden": true
   },
   "outputs": [
    {
     "data": {
      "text/plain": [
       "19"
      ]
     },
     "execution_count": 21,
     "metadata": {},
     "output_type": "execute_result"
    }
   ],
   "source": [
    "17\n",
    "\n",
    "x\n",
    "\n",
    "x + 17"
   ]
  },
  {
   "cell_type": "code",
   "execution_count": null,
   "metadata": {
    "hidden": true
   },
   "outputs": [],
   "source": []
  },
  {
   "cell_type": "code",
   "execution_count": null,
   "metadata": {
    "hidden": true
   },
   "outputs": [],
   "source": []
  },
  {
   "cell_type": "markdown",
   "metadata": {
    "hidden": true
   },
   "source": [
    "<span style=\"color:red\">** 하지만, script에서는 expression 자체로 어떠한 것도 수행하지는 않는다.**</span> \n",
    "초심자에게 혼란스러운 점이다.\n",
    "\n",
    "<span style=\"color:red\">문제 1.1 </span>  Python Interactive mode에 다음 세 문장을 하나의 셀에 입력하고 결과를 보라.    \n",
    "x = 20  \n",
    "x + 1   \n",
    "x + 20"
   ]
  },
  {
   "cell_type": "code",
   "execution_count": 22,
   "metadata": {
    "hidden": true
   },
   "outputs": [
    {
     "data": {
      "text/plain": [
       "40"
      ]
     },
     "execution_count": 22,
     "metadata": {},
     "output_type": "execute_result"
    }
   ],
   "source": [
    "x = 20\n",
    "x + 1\n",
    "x + 20"
   ]
  },
  {
   "cell_type": "markdown",
   "metadata": {
    "heading_collapsed": true
   },
   "source": [
    "## 7.  연산자 적용 우선순위 (Order of Operations)\n"
   ]
  },
  {
   "cell_type": "markdown",
   "metadata": {
    "hidden": true
   },
   "source": [
    "\n",
    "expression에 1개 이상의 operator가 있을 때, operator 평가 순서는 우선순위 규칙에 따른다.  \n",
    "수학연산자에 대한 우선순위는 수학적 관례를 동일하게 따른다.  \n",
    "1순위: 괄호    \n",
    "2순위: 지수승  \n",
    "3순위: 곱셈 과 나눗셈  \n",
    "4순위: 덧셈, 뺄셈  \n",
    "\n",
    "같은 실행 순위를 갖는 연산자는 왼쪽에서부터 오른쪽으로 실행된다.\n"
   ]
  },
  {
   "cell_type": "markdown",
   "metadata": {
    "heading_collapsed": true
   },
   "source": [
    "## 8. 곱셈, 나눗셈의 주의사항 "
   ]
  },
  {
   "cell_type": "markdown",
   "metadata": {
    "hidden": true
   },
   "source": [
    "\n",
    "<span style=\"color:red\">**Python 2에서는 곱셈 또는 나눗셈에서, operland가 모두 정수면, 그 결과는 정수다.**</span>  "
   ]
  },
  {
   "cell_type": "markdown",
   "metadata": {
    "heading_collapsed": true
   },
   "source": [
    "## 9. 몫 연산자와 나머지 연산자 (Modulus Operator)"
   ]
  },
  {
   "cell_type": "markdown",
   "metadata": {
    "collapsed": true,
    "hidden": true
   },
   "source": [
    "\n",
    "몫 연산자는 첫 번째 operland를 두 번째 operland로 나눌 때의 몫을 생성한다.   \n",
    "몫 연산자는 기호(//)다"
   ]
  },
  {
   "cell_type": "code",
   "execution_count": 23,
   "metadata": {
    "hidden": true
   },
   "outputs": [
    {
     "name": "stdout",
     "output_type": "stream",
     "text": [
      "4\n"
     ]
    }
   ],
   "source": [
    "x = 9 // 2\n",
    "print(x)"
   ]
  },
  {
   "cell_type": "code",
   "execution_count": 24,
   "metadata": {
    "hidden": true
   },
   "outputs": [
    {
     "name": "stdout",
     "output_type": "stream",
     "text": [
      "3.0\n"
     ]
    }
   ],
   "source": [
    "y = 17 // 4.5\n",
    "print(y)"
   ]
  },
  {
   "cell_type": "markdown",
   "metadata": {
    "hidden": true
   },
   "source": [
    "<br><br>\n",
    "첫번째 연산자는 첫 번째 피연산자를 두 번째 피연산자로 나눌 때의 나머지 값을 생성한다.   \n",
    "나머지 연산자는 퍼센트 기호(%)다."
   ]
  },
  {
   "cell_type": "code",
   "execution_count": 25,
   "metadata": {
    "hidden": true
   },
   "outputs": [
    {
     "name": "stdout",
     "output_type": "stream",
     "text": [
      "1\n"
     ]
    }
   ],
   "source": [
    "x = 9 % 2\n",
    "print(x)"
   ]
  },
  {
   "cell_type": "code",
   "execution_count": 26,
   "metadata": {
    "hidden": true
   },
   "outputs": [
    {
     "name": "stdout",
     "output_type": "stream",
     "text": [
      "3.5\n"
     ]
    }
   ],
   "source": [
    "y = 17 % 4.5\n",
    "print(y)"
   ]
  },
  {
   "cell_type": "markdown",
   "metadata": {
    "hidden": true
   },
   "source": [
    "<br><br>\n",
    "나머지 연산자는 매우 유용하다.   \n",
    "예를 들어, 한 숫자를 다른 숫자로 나눌 수 있는지 없는지를 확인할 수 있다.  \n",
    "x % y 값이 0 이라면, x를 y로 나눌 수 있다.  \n",
    "\n",
    "또한, 숫자에서 가장 오른쪽 숫자를 분리하는데도 사용된다.   \n",
    "예를 들어 x % 10 은 x가 10진수인 경우 가장 오른쪽 숫자를 뽑아낼 수 있고,   \n",
    "동일한 방식으로 x % 100 은 가장 오른쪽 2개 숫자를 뽑아낼 수 있다.  "
   ]
  },
  {
   "cell_type": "code",
   "execution_count": 27,
   "metadata": {
    "hidden": true
   },
   "outputs": [],
   "source": [
    "x= 1246\n",
    "y= 7"
   ]
  },
  {
   "cell_type": "markdown",
   "metadata": {
    "hidden": true
   },
   "source": [
    "<br><br><span style=\"color:red\">문제 1.2 </span>  x는 y의 배수인지를 알아보는 코딩을 하시오."
   ]
  },
  {
   "cell_type": "code",
   "execution_count": 28,
   "metadata": {
    "hidden": true
   },
   "outputs": [
    {
     "name": "stdout",
     "output_type": "stream",
     "text": [
      "0\n"
     ]
    }
   ],
   "source": [
    "print(x % y)"
   ]
  },
  {
   "cell_type": "markdown",
   "metadata": {
    "hidden": true
   },
   "source": [
    "<br><br><span style=\"color:red\">문제 1.3 </span>  x의 1의 자리 숫자를 추출하는 코딩을 하시오."
   ]
  },
  {
   "cell_type": "code",
   "execution_count": 29,
   "metadata": {
    "hidden": true
   },
   "outputs": [
    {
     "name": "stdout",
     "output_type": "stream",
     "text": [
      "6\n"
     ]
    }
   ],
   "source": [
    "print(x % 10)"
   ]
  },
  {
   "cell_type": "markdown",
   "metadata": {
    "hidden": true
   },
   "source": [
    "<br><br><span style=\"color:red\">문제 1.4 </span>  x의 10의 자리 숫자를 추출하는 코딩을 하시오."
   ]
  },
  {
   "cell_type": "code",
   "execution_count": 30,
   "metadata": {
    "hidden": true
   },
   "outputs": [
    {
     "name": "stdout",
     "output_type": "stream",
     "text": [
      "4\n"
     ]
    }
   ],
   "source": [
    "print(x // 10 % 10)"
   ]
  },
  {
   "cell_type": "markdown",
   "metadata": {
    "hidden": true
   },
   "source": [
    "<br><br><span style=\"color:red\">문제 1.5 </span>  x의 100의 자리 숫자를 추출하는 코딩을 하시오."
   ]
  },
  {
   "cell_type": "code",
   "execution_count": 31,
   "metadata": {
    "hidden": true
   },
   "outputs": [
    {
     "name": "stdout",
     "output_type": "stream",
     "text": [
      "2\n"
     ]
    }
   ],
   "source": [
    "print(x // 100 % 10)"
   ]
  },
  {
   "cell_type": "markdown",
   "metadata": {
    "heading_collapsed": true
   },
   "source": [
    "## 10.  + 연산자 "
   ]
  },
  {
   "cell_type": "markdown",
   "metadata": {
    "hidden": true
   },
   "source": [
    "\n",
    "\\+ 연산자가 숫자와 함께 쓰이면 덧셈이다.  \n",
    "\\+ 연산자가 문자열에서 사용되면 문자열 끝과 끝을 붙이는 연결(concatenation) 작업을 수행한다.\n",
    "\n",
    "<br><br>\n",
    "다음의 결과를 예측 해보자.  \n",
    "\n",
    "first = 10   \n",
    "second = 15   \n",
    "print(first+second)  \n",
    "\n",
    "이제 코딩을 하여 확인해보자."
   ]
  },
  {
   "cell_type": "code",
   "execution_count": 32,
   "metadata": {
    "hidden": true
   },
   "outputs": [
    {
     "name": "stdout",
     "output_type": "stream",
     "text": [
      "25\n"
     ]
    }
   ],
   "source": [
    "first = 10\n",
    "second = 15\n",
    "print(first + second)"
   ]
  },
  {
   "cell_type": "markdown",
   "metadata": {
    "hidden": true
   },
   "source": [
    "그러면, 다음의 결과는 무엇일까?  \n",
    "\n",
    "first = 'abc'  \n",
    "second = 'def'  \n",
    "print(first + second)  \n",
    "\n",
    "코딩을 하여 확인해보자."
   ]
  },
  {
   "cell_type": "code",
   "execution_count": 33,
   "metadata": {
    "hidden": true
   },
   "outputs": [
    {
     "name": "stdout",
     "output_type": "stream",
     "text": [
      "abcdef\n"
     ]
    }
   ],
   "source": [
    "first = 'abc'\n",
    "second = 'def'\n",
    "print(first + second)"
   ]
  },
  {
   "cell_type": "markdown",
   "metadata": {
    "hidden": true
   },
   "source": [
    "<br><br>\n",
    "위 프로그램은 한 줄로 코딩을 할 수 있다."
   ]
  },
  {
   "cell_type": "code",
   "execution_count": 34,
   "metadata": {
    "hidden": true
   },
   "outputs": [
    {
     "name": "stdout",
     "output_type": "stream",
     "text": [
      "abcdef\n"
     ]
    }
   ],
   "source": [
    "print('abcdef')"
   ]
  },
  {
   "cell_type": "markdown",
   "metadata": {
    "hidden": true
   },
   "source": [
    "<br><br>\n",
    "그러면, 다음의 결과는 무엇일까?  \n",
    "\n",
    "first = '10'  \n",
    "second = '15'  \n",
    "print(first + second)  \n",
    "\n",
    "코딩을 하여 확인해보자."
   ]
  },
  {
   "cell_type": "code",
   "execution_count": 35,
   "metadata": {
    "hidden": true
   },
   "outputs": [
    {
     "name": "stdout",
     "output_type": "stream",
     "text": [
      "1015\n"
     ]
    }
   ],
   "source": [
    "first = '10'\n",
    "second = '15'\n",
    "print(first + second)"
   ]
  },
  {
   "cell_type": "markdown",
   "metadata": {
    "hidden": true
   },
   "source": [
    "<br><br>\n",
    "다음의 결과를 예측 해보자\n",
    "\n",
    "first = 10    \n",
    "second = '15'   \n",
    "print(first+second) \n",
    "\n",
    "코딩을 하여 확인해보자."
   ]
  },
  {
   "cell_type": "code",
   "execution_count": 36,
   "metadata": {
    "hidden": true
   },
   "outputs": [
    {
     "ename": "TypeError",
     "evalue": "unsupported operand type(s) for +: 'int' and 'str'",
     "output_type": "error",
     "traceback": [
      "\u001b[1;31m---------------------------------------------------------------------------\u001b[0m",
      "\u001b[1;31mTypeError\u001b[0m                                 Traceback (most recent call last)",
      "\u001b[1;32m<ipython-input-36-e8126123bc00>\u001b[0m in \u001b[0;36m<module>\u001b[1;34m()\u001b[0m\n\u001b[0;32m      1\u001b[0m \u001b[0mfirst\u001b[0m \u001b[1;33m=\u001b[0m \u001b[1;36m10\u001b[0m\u001b[1;33m\u001b[0m\u001b[0m\n\u001b[0;32m      2\u001b[0m \u001b[0msecond\u001b[0m \u001b[1;33m=\u001b[0m \u001b[1;34m'15'\u001b[0m\u001b[1;33m\u001b[0m\u001b[0m\n\u001b[1;32m----> 3\u001b[1;33m \u001b[0mprint\u001b[0m\u001b[1;33m(\u001b[0m\u001b[0mfirst\u001b[0m \u001b[1;33m+\u001b[0m \u001b[0msecond\u001b[0m\u001b[1;33m)\u001b[0m\u001b[1;33m\u001b[0m\u001b[0m\n\u001b[0m",
      "\u001b[1;31mTypeError\u001b[0m: unsupported operand type(s) for +: 'int' and 'str'"
     ]
    }
   ],
   "source": [
    "first = 10\n",
    "second = '15'\n",
    "print(first + second)"
   ]
  },
  {
   "cell_type": "markdown",
   "metadata": {
    "heading_collapsed": true
   },
   "source": [
    "##  print( ) 사용법\n"
   ]
  },
  {
   "cell_type": "code",
   "execution_count": 37,
   "metadata": {
    "hidden": true
   },
   "outputs": [
    {
     "name": "stdout",
     "output_type": "stream",
     "text": [
      "Hannam Univerdity\n"
     ]
    }
   ],
   "source": [
    "print(\"Hannam Univerdity\")"
   ]
  },
  {
   "cell_type": "code",
   "execution_count": 38,
   "metadata": {
    "hidden": true
   },
   "outputs": [
    {
     "name": "stdout",
     "output_type": "stream",
     "text": [
      "나는 1학년\n"
     ]
    }
   ],
   "source": [
    "print(\"나는\",\"1학년\")"
   ]
  },
  {
   "cell_type": "code",
   "execution_count": 39,
   "metadata": {
    "hidden": true
   },
   "outputs": [
    {
     "name": "stdout",
     "output_type": "stream",
     "text": [
      "나는1학년\n"
     ]
    }
   ],
   "source": [
    "print(\"나는1학년\")"
   ]
  },
  {
   "cell_type": "code",
   "execution_count": 40,
   "metadata": {
    "hidden": true
   },
   "outputs": [
    {
     "name": "stdout",
     "output_type": "stream",
     "text": [
      "나는 1학년\n"
     ]
    }
   ],
   "source": [
    "print(\"나는 1학년\")"
   ]
  },
  {
   "cell_type": "code",
   "execution_count": 41,
   "metadata": {
    "hidden": true
   },
   "outputs": [
    {
     "name": "stdout",
     "output_type": "stream",
     "text": [
      "1\n"
     ]
    }
   ],
   "source": [
    "print(1)"
   ]
  },
  {
   "cell_type": "code",
   "execution_count": 42,
   "metadata": {
    "hidden": true
   },
   "outputs": [
    {
     "name": "stdout",
     "output_type": "stream",
     "text": [
      "나는 1 학년\n"
     ]
    }
   ],
   "source": [
    "print(\"나는\",1,\"학년\")"
   ]
  },
  {
   "cell_type": "code",
   "execution_count": 43,
   "metadata": {
    "hidden": true
   },
   "outputs": [
    {
     "name": "stdout",
     "output_type": "stream",
     "text": [
      "나는 1 학년\n"
     ]
    }
   ],
   "source": [
    "print(\"나는\",\"1\",\"학년\")"
   ]
  },
  {
   "cell_type": "code",
   "execution_count": 44,
   "metadata": {
    "hidden": true
   },
   "outputs": [
    {
     "ename": "TypeError",
     "evalue": "must be str, not int",
     "output_type": "error",
     "traceback": [
      "\u001b[1;31m---------------------------------------------------------------------------\u001b[0m",
      "\u001b[1;31mTypeError\u001b[0m                                 Traceback (most recent call last)",
      "\u001b[1;32m<ipython-input-44-9b784e5a4f26>\u001b[0m in \u001b[0;36m<module>\u001b[1;34m()\u001b[0m\n\u001b[1;32m----> 1\u001b[1;33m \u001b[0mprint\u001b[0m\u001b[1;33m(\u001b[0m\u001b[1;34m\"나는 \"\u001b[0m\u001b[1;33m+\u001b[0m\u001b[1;36m1\u001b[0m\u001b[1;33m+\u001b[0m\u001b[1;34m\"학년\"\u001b[0m\u001b[1;33m)\u001b[0m\u001b[1;33m\u001b[0m\u001b[0m\n\u001b[0m",
      "\u001b[1;31mTypeError\u001b[0m: must be str, not int"
     ]
    }
   ],
   "source": [
    "print(\"나는 \"+1+\"학년\")"
   ]
  },
  {
   "cell_type": "code",
   "execution_count": 45,
   "metadata": {
    "hidden": true
   },
   "outputs": [
    {
     "name": "stdout",
     "output_type": "stream",
     "text": [
      "나는 1학년\n"
     ]
    }
   ],
   "source": [
    "print(\"나는 \"+\"1\"+\"학년\")"
   ]
  },
  {
   "cell_type": "code",
   "execution_count": 46,
   "metadata": {
    "hidden": true
   },
   "outputs": [
    {
     "name": "stdout",
     "output_type": "stream",
     "text": [
      "나는 x학년\n"
     ]
    }
   ],
   "source": [
    "x=1\n",
    "print(\"나는 x학년\")"
   ]
  },
  {
   "cell_type": "code",
   "execution_count": 47,
   "metadata": {
    "hidden": true
   },
   "outputs": [
    {
     "ename": "TypeError",
     "evalue": "must be str, not int",
     "output_type": "error",
     "traceback": [
      "\u001b[1;31m---------------------------------------------------------------------------\u001b[0m",
      "\u001b[1;31mTypeError\u001b[0m                                 Traceback (most recent call last)",
      "\u001b[1;32m<ipython-input-47-f58297f3a8ee>\u001b[0m in \u001b[0;36m<module>\u001b[1;34m()\u001b[0m\n\u001b[0;32m      1\u001b[0m \u001b[0mx\u001b[0m\u001b[1;33m=\u001b[0m\u001b[1;36m1\u001b[0m\u001b[1;33m\u001b[0m\u001b[0m\n\u001b[1;32m----> 2\u001b[1;33m \u001b[0mprint\u001b[0m\u001b[1;33m(\u001b[0m\u001b[1;34m\"나는\"\u001b[0m\u001b[1;33m+\u001b[0m\u001b[0mx\u001b[0m\u001b[1;33m+\u001b[0m\u001b[1;34m\"학년\"\u001b[0m\u001b[1;33m)\u001b[0m\u001b[1;33m\u001b[0m\u001b[0m\n\u001b[0m",
      "\u001b[1;31mTypeError\u001b[0m: must be str, not int"
     ]
    }
   ],
   "source": [
    "x=1\n",
    "print(\"나는\"+x+\"학년\")"
   ]
  },
  {
   "cell_type": "code",
   "execution_count": 48,
   "metadata": {
    "hidden": true
   },
   "outputs": [
    {
     "name": "stdout",
     "output_type": "stream",
     "text": [
      "나는 x학년\n"
     ]
    }
   ],
   "source": [
    "x=1\n",
    "print(\"나는 \"+\"x\"+\"학년\")"
   ]
  },
  {
   "cell_type": "code",
   "execution_count": 49,
   "metadata": {
    "hidden": true
   },
   "outputs": [
    {
     "name": "stdout",
     "output_type": "stream",
     "text": [
      "나는 1학년\n"
     ]
    }
   ],
   "source": [
    "x=1\n",
    "print(\"나는 \"+str(x)+\"학년\")"
   ]
  },
  {
   "cell_type": "code",
   "execution_count": 50,
   "metadata": {
    "hidden": true
   },
   "outputs": [
    {
     "name": "stdout",
     "output_type": "stream",
     "text": [
      "나는\n",
      "1학년\n"
     ]
    }
   ],
   "source": [
    "print(\"나는\")\n",
    "print(\"1학년\")"
   ]
  },
  {
   "cell_type": "code",
   "execution_count": 51,
   "metadata": {
    "hidden": true
   },
   "outputs": [
    {
     "name": "stdout",
     "output_type": "stream",
     "text": [
      "나는\n",
      "1학년\n"
     ]
    }
   ],
   "source": [
    "print(\"나는\",end='\\n')\n",
    "print(\"1학년\")"
   ]
  },
  {
   "cell_type": "code",
   "execution_count": 52,
   "metadata": {
    "hidden": true
   },
   "outputs": [
    {
     "name": "stdout",
     "output_type": "stream",
     "text": [
      "나는\n",
      "1학년\n"
     ]
    }
   ],
   "source": [
    "print(\"나는\\n1학년\")"
   ]
  },
  {
   "cell_type": "code",
   "execution_count": 53,
   "metadata": {
    "hidden": true
   },
   "outputs": [
    {
     "name": "stdout",
     "output_type": "stream",
     "text": [
      "나는1학년\n"
     ]
    }
   ],
   "source": [
    "print(\"나는\",end='')\n",
    "print(\"1학년\")"
   ]
  },
  {
   "cell_type": "code",
   "execution_count": 54,
   "metadata": {
    "hidden": true
   },
   "outputs": [
    {
     "name": "stdout",
     "output_type": "stream",
     "text": [
      "나는@@@1학년\n"
     ]
    }
   ],
   "source": [
    "print(\"나는\",end='@@@')\n",
    "print(\"1학년\")"
   ]
  },
  {
   "cell_type": "markdown",
   "metadata": {
    "heading_collapsed": true
   },
   "source": [
    "## 11.  사용자에게서 입력값 받기"
   ]
  },
  {
   "cell_type": "markdown",
   "metadata": {
    "collapsed": true,
    "hidden": true
   },
   "source": [
    "\n",
    "\n",
    "input( ) 이라는 내장(built-in)함수가 호출되면,   \n",
    "파이썬은 실행을 멈추고 사용자가 무언가 입력하기를 기다린다.   \n",
    "사용자가 Return (리턴) 키 혹은 Enter (엔터) 키를 누르면 프로그램이 다시 실행되고, \n",
    "input( )은 사용자가 입력한 것을 문자열로 반환한다. \n",
    "(파이썬 2 에서 이에 해당하는 함수는 raw_input() 이다.)\n",
    "\n",
    "아래 셀을 실행하면, 셀 아래에 파란 상자가 나타나며, 사용자의 입력을 기다린다."
   ]
  },
  {
   "cell_type": "code",
   "execution_count": 2,
   "metadata": {
    "hidden": true
   },
   "outputs": [
    {
     "name": "stdout",
     "output_type": "stream",
     "text": [
      "love\n",
      "love\n"
     ]
    }
   ],
   "source": [
    "x=input()\n",
    "print(x)"
   ]
  },
  {
   "cell_type": "markdown",
   "metadata": {
    "hidden": true
   },
   "source": [
    "<br><br>\n",
    "사용자로부터 입력 받기 전에 프롬프트에서 사용자가 어떤 값을 입력해야 하는 지 정보를 제공하는 것이 좋다.   \n",
    "입력을 받기 위해 잠시 멈춰있을 때 어떤 입력을 기다리고 있는지 사용자에게 표시되도록 하기 위하여,   \n",
    "input( ) 함수의 괄호 안에 사용자에게 보여질 문자열을 표기할 수 있다."
   ]
  },
  {
   "cell_type": "code",
   "execution_count": 3,
   "metadata": {
    "hidden": true
   },
   "outputs": [
    {
     "name": "stdout",
     "output_type": "stream",
     "text": [
      "What is your name?\n",
      "park choyeon\n",
      "park choyeon\n"
     ]
    }
   ],
   "source": [
    "x = input('What is your name?\\n')\n",
    "print(x)"
   ]
  },
  {
   "cell_type": "markdown",
   "metadata": {
    "hidden": true
   },
   "source": [
    "<br><br>\n",
    "프롬프트의 끝에 \\n 은 새로운 줄(newline)을 의미하는 것으로 줄을 바꾸게 하는 특수 문자다.   \n",
    "이런 이유 때문에 사용자가 키보드로 한 입력이 다음 줄에 출력된다.\n",
    "\n",
    "만일 \\n 이 없다면 어떻게 될까?"
   ]
  },
  {
   "cell_type": "code",
   "execution_count": 4,
   "metadata": {
    "hidden": true
   },
   "outputs": [
    {
     "name": "stdout",
     "output_type": "stream",
     "text": [
      "What is your name?park choyeon\n",
      "park choyeon\n"
     ]
    }
   ],
   "source": [
    "x = input('What is your name?')\n",
    "print(x)"
   ]
  },
  {
   "cell_type": "markdown",
   "metadata": {
    "hidden": true
   },
   "source": [
    "<br><br>\n",
    "<span style=\"color:red\">**만약 사용자가 정수를 입력하기를 바란다면, int( )함수를 사용하여 반환되는 문자열을 정수로 자료형을 변환한다.**</span> \n"
   ]
  },
  {
   "cell_type": "code",
   "execution_count": 5,
   "metadata": {
    "hidden": true
   },
   "outputs": [
    {
     "name": "stdout",
     "output_type": "stream",
     "text": [
      "올해는 몇년입니까?\n",
      "2018\n",
      "2023\n"
     ]
    }
   ],
   "source": [
    "prompt = '올해는 몇년입니까?\\n'\n",
    "year = input(prompt)\n",
    "x = int(year) + 5\n",
    "print(x)"
   ]
  },
  {
   "cell_type": "markdown",
   "metadata": {
    "hidden": true
   },
   "source": [
    "<br><br>\n",
    "하지만, 사용자가 숫자 문자열이 아닌 다른 것을 입력하게 되면 오류가 발생한다.  \n",
    "다음 코드를 실행하되, 입력 프롬프트에 알파벳 aaa를 입력하자."
   ]
  },
  {
   "cell_type": "code",
   "execution_count": 7,
   "metadata": {
    "hidden": true
   },
   "outputs": [
    {
     "name": "stdout",
     "output_type": "stream",
     "text": [
      "올해는 몇년입니까?\n",
      "aaa\n"
     ]
    },
    {
     "ename": "ValueError",
     "evalue": "invalid literal for int() with base 10: 'aaa'",
     "output_type": "error",
     "traceback": [
      "\u001b[1;31m---------------------------------------------------------------------------\u001b[0m",
      "\u001b[1;31mValueError\u001b[0m                                Traceback (most recent call last)",
      "\u001b[1;32m<ipython-input-7-3f9ed4d3481c>\u001b[0m in \u001b[0;36m<module>\u001b[1;34m()\u001b[0m\n\u001b[0;32m      1\u001b[0m \u001b[0mprompt\u001b[0m \u001b[1;33m=\u001b[0m \u001b[1;34m'올해는 몇년입니까?\\n'\u001b[0m\u001b[1;33m\u001b[0m\u001b[0m\n\u001b[0;32m      2\u001b[0m \u001b[0myear\u001b[0m \u001b[1;33m=\u001b[0m \u001b[0minput\u001b[0m\u001b[1;33m(\u001b[0m\u001b[0mprompt\u001b[0m\u001b[1;33m)\u001b[0m\u001b[1;33m\u001b[0m\u001b[0m\n\u001b[1;32m----> 3\u001b[1;33m \u001b[0mx\u001b[0m \u001b[1;33m=\u001b[0m \u001b[0mint\u001b[0m\u001b[1;33m(\u001b[0m\u001b[0myear\u001b[0m\u001b[1;33m)\u001b[0m \u001b[1;33m+\u001b[0m \u001b[1;36m5\u001b[0m\u001b[1;33m\u001b[0m\u001b[0m\n\u001b[0m\u001b[0;32m      4\u001b[0m \u001b[0mprint\u001b[0m\u001b[1;33m(\u001b[0m\u001b[0mx\u001b[0m\u001b[1;33m)\u001b[0m\u001b[1;33m\u001b[0m\u001b[0m\n",
      "\u001b[1;31mValueError\u001b[0m: invalid literal for int() with base 10: 'aaa'"
     ]
    }
   ],
   "source": [
    "prompt = '올해는 몇년입니까?\\n'\n",
    "year = input(prompt)\n",
    "x = int(year) + 5\n",
    "print(x)"
   ]
  },
  {
   "cell_type": "markdown",
   "metadata": {
    "hidden": true
   },
   "source": [
    "<br><br>\n",
    "나중에 이런 종류의 오류를 어떻게 다루는지 배울 것이다."
   ]
  },
  {
   "cell_type": "markdown",
   "metadata": {
    "heading_collapsed": true
   },
   "source": [
    "## 12.  comment(주석, 코멘트문)\n"
   ]
  },
  {
   "cell_type": "markdown",
   "metadata": {
    "hidden": true
   },
   "source": [
    "\n",
    "프로그램이 커지고 복잡해짐에 따라 가독성(readability)은 떨어진다.  \n",
    "이런 이유로 프로그램이 무엇을 하는지를 인간의 언어로 프로그램에 설명해 놓는 것은 좋은 생각이다.   \n",
    "이를 comment(주석, 주석문)이라고 하고 # 기호로 시작한다.\n",
    "\n",
    "\n"
   ]
  },
  {
   "cell_type": "code",
   "execution_count": 8,
   "metadata": {
    "hidden": true
   },
   "outputs": [
    {
     "name": "stdout",
     "output_type": "stream",
     "text": [
      "1.5\n"
     ]
    }
   ],
   "source": [
    "# 경과한 초 단위의 시간을  분단위로 계산\n",
    "second = 90\n",
    "minute = second / 60\n",
    "print(minute) "
   ]
  },
  {
   "cell_type": "markdown",
   "metadata": {
    "hidden": true
   },
   "source": [
    "위의 경우, 주석 자체가 한 줄이다. \n",
    "주석을 코드와 같은 줄의 맨 뒤에 놓을 수도있다.\n",
    "percentage = (minute * 100) / 60 # 경과한 초단위"
   ]
  },
  {
   "cell_type": "code",
   "execution_count": 9,
   "metadata": {
    "hidden": true
   },
   "outputs": [
    {
     "name": "stdout",
     "output_type": "stream",
     "text": [
      "1.5\n"
     ]
    }
   ],
   "source": [
    "second = 90\n",
    "minute = second / 60  # 경과한 초 단위의 시간을 분 단위로 계산\n",
    "print(minute) "
   ]
  },
  {
   "cell_type": "markdown",
   "metadata": {
    "hidden": true
   },
   "source": [
    "\\# 뒤의 모든 것은  (즉 줄의 끝까지) 무시되기 때문에 프로그램에는 아무런 영향이 없다.  \n",
    "명확하지 않은 코드의 기능을 문서화할 때 주석은 가장 유용하다.   \n",
    "프로그램을 읽는 사람이 코드가 무엇을 하는지 설명하는 주석문을 보게 되면 도움이 된다.  \n",
    "왜 코드를 그렇게 짰는지 이유를 설명하는 것은 더욱 유용하다.\n",
    "\n",
    "* 다음의 주석은 코드와 중복되어 쓸모가 없다.  \n",
    "  v = 5 &nbsp;&nbsp;&nbsp;&nbsp;&nbsp;&nbsp; # v에 5를 배정     \n",
    "<br>\n",
    "* 다음의 주석은 코드에 없는 유용한 정보가 있다.  \n",
    "  v = 5 &nbsp;&nbsp;&nbsp;&nbsp;&nbsp;&nbsp; #  v 값은 meters/second.   \n",
    "<br>\n",
    "\n",
    "* 좋은 변수명은 주석을 달 필요를 없게 만들지만, 지나치게 긴 변수명으로 인하여 표현식이 읽기 어려운 복잡한 식이 될 수 있다.  \n",
    "그래서 상충관계(trade-off)가 존재한다.\n"
   ]
  },
  {
   "cell_type": "code",
   "execution_count": null,
   "metadata": {
    "hidden": true
   },
   "outputs": [],
   "source": []
  },
  {
   "cell_type": "markdown",
   "metadata": {
    "heading_collapsed": true
   },
   "source": [
    "## 13.  연상되는 변수명 만들기"
   ]
  },
  {
   "cell_type": "markdown",
   "metadata": {
    "hidden": true
   },
   "source": [
    "\n",
    "변수의 이름을 지을 때, 단순한 규칙을 지키고 key words를 피하기만 하다면, 변수이름을 작명할 수 있는 무척이나 많은 경우의 수가 존재한다. \n",
    "\n",
    "예를 들어, 다음의 3개 프로그램은 각 프로그램이 달성하려 하는 관점에서 동일하지만, 여러분이 읽고 이해하는 데는 많은 차이점이 있다.\n",
    "\n",
    "a = 35.0  \n",
    "b = 12.50  \n",
    "c = a * b  \n",
    "print(c)\n",
    "\n",
    "hours = 35.0  \n",
    "rate = 12.50  \n",
    "pay = hours * rate  \n",
    "print(pay)  \n",
    "\n",
    "x1q3z9ahd = 35.0  \n",
    "x1q3z9afd = 12.50  \n",
    "x1q3p9afd = x1q3z9ahd * x1q3z9afd  \n",
    "print(x1q3p9afd) \n",
    "\n",
    "파이썬 인터프리터는 상기 3개 프로그램을 모두 동일하게 바라보지만, 사람은 이들 프로그램을 매우 다르게 보고 이해한다.  \n",
    "사람은 가장 빨리 두 번째 프로그램의 의도를 알아차린다.   \n",
    "왜냐하면 각 변수에 무슨 데이터가 저장될지에 관해서, 프로그래머의 의도를 반영하는 변수명을 사용했기 때문이다.\n",
    "\n",
    "for word in words:  \n",
    "&nbsp;&nbsp;&nbsp;&nbsp; print(word)\n",
    "\n",
    "대다수 텍스트 편집기는 파이썬 문법을 인지하고 있어서, 파이썬 key words와 프로그래머가 작성한 변수를 구분하기 위해서 색깔을 다르게 표시한다\n"
   ]
  },
  {
   "cell_type": "markdown",
   "metadata": {},
   "source": [
    "## <span style=\"color:red\">** 연습문제 **</span>  "
   ]
  },
  {
   "cell_type": "markdown",
   "metadata": {},
   "source": [
    "<br>\n",
    "<span style=\"color:red\">연습문제 1.1&nbsp;&nbsp; </span>   \n",
    "변수가 다음과 같을 때, print( ) 함수를 사용하여, <span style=\"color:orange\">당신은 서울에서 태어났습니다. </span>   라고 인쇄하는 프로그램을 작성하라.  \n",
    "\n",
    "<p style=\"font-family: Courier New; font-size: 1.15em; \">\n",
    "msg2 = '당신은 '  \n",
    "name = '서울'    \n",
    "msg3 = '에서 태어났습니다.'  "
   ]
  },
  {
   "cell_type": "code",
   "execution_count": 7,
   "metadata": {},
   "outputs": [
    {
     "name": "stdout",
     "output_type": "stream",
     "text": [
      "당신은 서울 1\n"
     ]
    }
   ],
   "source": [
    "msg2 = '당신은 '\n",
    "name = '서울'\n",
    "msg3 = str(1)\n",
    "\n",
    "print(msg2 + name , str(1))"
   ]
  },
  {
   "cell_type": "markdown",
   "metadata": {},
   "source": [
    "<br><br><br>\n",
    "<span style=\"color:red\">연습문제 1.2&nbsp;&nbsp; </span>   \n",
    "input( )을 사용하여, 다음과 같이 출생도시의 이름을 입력받고 환영하는 프로그램을 작성하라.  \n",
    "\n",
    "<span style=\"color:orange\">출생도시: </span>  <span style=\"color:blue\"> 서울 </span>  \n",
    "<span style=\"color:orange\">당신은 서울에서 태어났습니다. </span>   "
   ]
  },
  {
   "cell_type": "markdown",
   "metadata": {
    "collapsed": true
   },
   "source": [
    "** 연습문제 1.1 &nbsp;&nbsp;프로그램 가이드 ** \n",
    "- step 1: input( )을 사용하여 화면에 “출생도시: “ 가 나타나도록 하며, 사용자가 입력한 내용을 name 이라는 변수에 저장한다. \n",
    "- step 2: print 문과 + 연산자 그리고 name을 이용하여 인쇄한다."
   ]
  },
  {
   "cell_type": "code",
   "execution_count": 8,
   "metadata": {},
   "outputs": [
    {
     "name": "stdout",
     "output_type": "stream",
     "text": [
      "출생도시: \n",
      "당신은 에서 태어났습니다.\n"
     ]
    }
   ],
   "source": [
    "name = input(\"출생도시: \")\n",
    "print('당신은 ' + name + '에서 태어났습니다.')"
   ]
  },
  {
   "cell_type": "markdown",
   "metadata": {},
   "source": [
    "<br><br><br>\n",
    "<span style=\"color:red\">연습문제 1.3 </span> 아래와 같이, 올해는 몇 년입니까?의 프롬프트로 사용자의 입력을 받아, 내년은 0000년 입니다를 화면에 인쇄하는 코드를 작성 하시오.\n",
    "\n",
    "\n",
    "<span style=\"color:orange\">올해는 몇 년입니까? <span style=\"color:blue\">2017    \n",
    "<span style=\"color:orange\">내년은 2018년 입니다. </span> "
   ]
  },
  {
   "cell_type": "code",
   "execution_count": 15,
   "metadata": {},
   "outputs": [
    {
     "name": "stdout",
     "output_type": "stream",
     "text": [
      "올해는 몇 년입니까?2017\n",
      "내년은 2018년 입니다.\n"
     ]
    }
   ],
   "source": [
    "prompt = input('올해는 몇 년입니까?')\n",
    "year = int(prompt) + 1\n",
    "print('내년은 ' + str(year) + '년 입니다.')"
   ]
  },
  {
   "cell_type": "code",
   "execution_count": 9,
   "metadata": {},
   "outputs": [
    {
     "name": "stdout",
     "output_type": "stream",
     "text": [
      "올해는 몇 년입니까?2017\n",
      "내년은 2018년 입니다.\n"
     ]
    }
   ],
   "source": [
    "prompt = input('올해는 몇 년입니까?')\n",
    "print('내년은 ' + str(int(prompt) + 1) + '년 입니다.')"
   ]
  },
  {
   "cell_type": "markdown",
   "metadata": {},
   "source": [
    "<br><br><br>\n",
    "<span style=\"color:red\">연습문제 1.4 </span> &nbsp;&nbsp;사용자로부터 분을 입력받아 초로 변환하여 출력하는 프로그램을 작성하라.\n",
    "\n",
    "<span style=\"color:orange\">변환할 시간을 입력하세요.  \n",
    "<span style=\"color:orange\">분: <span style=\"color:blue\">5   \n",
    "<span style=\"color:orange\">300초 입니다. </span> "
   ]
  },
  {
   "cell_type": "code",
   "execution_count": 16,
   "metadata": {},
   "outputs": [
    {
     "name": "stdout",
     "output_type": "stream",
     "text": [
      "변환할 시간을 입력하세요.\n",
      "분: 5\n",
      "300초 입니다.\n"
     ]
    }
   ],
   "source": [
    "print('변환할 시간을 입력하세요.')\n",
    "minute = input('분: ')\n",
    "second = int(minute) * 60\n",
    "print(str(second) + '초 입니다.')"
   ]
  },
  {
   "cell_type": "markdown",
   "metadata": {},
   "source": [
    "<br><br><br>\n",
    "<span style=\"color:red\">연습문제 1.5 </span> &nbsp;&nbsp;사용자로부터 분, 초를 입력받아 초로 변환하여 출력하는 프로그램을 작성하라.\n",
    "\n",
    "<span style=\"color:orange\">변환할 시간을 입력하세요.  \n",
    "<span style=\"color:orange\">분: <span style=\"color:blue\">5   \n",
    "<span style=\"color:orange\">초: <span style=\"color:blue\">30  \n",
    "<span style=\"color:orange\">330초 입니다. </span> "
   ]
  },
  {
   "cell_type": "code",
   "execution_count": 17,
   "metadata": {},
   "outputs": [
    {
     "name": "stdout",
     "output_type": "stream",
     "text": [
      "변환할 시간을 입력하세요.\n",
      "분: 5\n",
      "초: 30\n",
      "330초 입니다.\n"
     ]
    }
   ],
   "source": [
    "print('변환할 시간을 입력하세요.')\n",
    "minute = input('분: ')\n",
    "second = input('초: ')\n",
    "second = int(minute) * 60 + int(second)\n",
    "print(str(second) + '초 입니다.')"
   ]
  },
  {
   "cell_type": "markdown",
   "metadata": {},
   "source": [
    "<br><br><br>\n",
    "<span style=\"color:red\">연습문제 1.6 </span> &nbsp;&nbsp;사용자로부터 시, 분, 초를 입력받아 초로 변환하여 출력하는 프로그램을 작성하라.\n",
    "\n",
    "<span style=\"color:orange\">변환할 시간을 입력하세요.  \n",
    "<span style=\"color:orange\">시간: <span style=\"color:blue\">2  \n",
    "<span style=\"color:orange\">분:&nbsp;&nbsp;  <span style=\"color:blue\">46  \n",
    "<span style=\"color:orange\">초:&nbsp;&nbsp;  <span style=\"color:blue\">40  \n",
    "<span style=\"color:orange\">10000초 입니다. </span> "
   ]
  },
  {
   "cell_type": "code",
   "execution_count": 18,
   "metadata": {},
   "outputs": [
    {
     "name": "stdout",
     "output_type": "stream",
     "text": [
      "변환할 시간을 입력하세요.\n",
      "시간: 2\n",
      "분: 46\n",
      "초: 40\n",
      "10000초 입니다.\n"
     ]
    }
   ],
   "source": [
    "print('변환할 시간을 입력하세요.')\n",
    "hour = input('시간: ')\n",
    "minute = input('분: ')\n",
    "second = input('초: ')\n",
    "second = int(hour) * 60 * 60 + int(minute) * 60 + int(second)\n",
    "print(str(second) + '초 입니다.')"
   ]
  },
  {
   "cell_type": "markdown",
   "metadata": {},
   "source": [
    "<br><br><br>\n",
    "<span style=\"color:red\">연습문제 1.7 &nbsp;&nbsp;</span> 사용자로부터 나이를 입력받아 2030년에 몇 살이 되는지를 출력하는 프로그램을 작성하라.\n",
    "\n",
    "<span style=\"color:orange\">나이: <span style=\"color:blue\">25    \n",
    "<span style=\"color:orange\">2030년에 당신의 나이는 38살 입니다. </span> "
   ]
  },
  {
   "cell_type": "code",
   "execution_count": 9,
   "metadata": {},
   "outputs": [
    {
     "name": "stdout",
     "output_type": "stream",
     "text": [
      "나이: 25\n",
      "2030년에 당신의 나이는 38살 입니다.\n"
     ]
    }
   ],
   "source": [
    "age1 = input('나이: ')\n",
    "age2 = int(age1) +13\n",
    "print('2030년에 당신의 나이는 ' + str(age2) + '살 입니다.')"
   ]
  },
  {
   "cell_type": "markdown",
   "metadata": {},
   "source": [
    "<br><br><br>\n",
    "<span style=\"color:red\">연습문제 1.8 &nbsp;&nbsp;</span> 사용자로부터 근로시간과 시간당임금을 입력받아 급여를 계산하는 프로그램을 작성하라.  \n",
    "\n",
    "<span style=\"color:orange\">일 한 시간을 입력하세요: <span style=\"color:blue\">15    \n",
    "<span style=\"color:orange\">시간당 임금을 입력하세요: <span style=\"color:blue\">7.53  \n",
    "<span style=\"color:orange\">급여: 112.95 </span>  \n",
    "\n",
    "지금은 급여가 정확하게 소수점 두자리까지 표현되지 않아도 된다.   "
   ]
  },
  {
   "cell_type": "code",
   "execution_count": 1,
   "metadata": {},
   "outputs": [
    {
     "name": "stdout",
     "output_type": "stream",
     "text": [
      "일 한 시간을 입력하세요: 15\n",
      "시간당 임금을 입력하세요: 7.53\n",
      "급여: 112.95\n"
     ]
    }
   ],
   "source": [
    "hours = input('일 한 시간을 입력하세요: ')\n",
    "rate = input('시간당 임금을 입력하세요: ')\n",
    "pay = int(hours) * float(rate)\n",
    "print('급여: ' + str(pay))"
   ]
  },
  {
   "cell_type": "markdown",
   "metadata": {},
   "source": [
    "<br><br><br>\n",
    "<span style=\"color:red\">연습문제 1.9 &nbsp;&nbsp;</span> 사용자로부터 가로의 길이와 세로의 길이를 입력받아, \n",
    "직사각형의 넓이를 계산하여 다음과 같이 출력하는 프로그램을 작성하라.\n",
    "\n",
    "<span style=\"color:orange\">가로: <span style=\"color:blue\">5  \n",
    "<span style=\"color:orange\">세로: <span style=\"color:blue\">10  \n",
    "<span style=\"color:orange\">가로 5, 세로 10인 직사각형의 넓이는 50 입니다. </span> "
   ]
  },
  {
   "cell_type": "code",
   "execution_count": 4,
   "metadata": {},
   "outputs": [
    {
     "name": "stdout",
     "output_type": "stream",
     "text": [
      "가로: 5\n",
      "세로: 10\n",
      "가로 5, 세로 10인 직사각형의 넓이는 50 입니다.\n"
     ]
    }
   ],
   "source": [
    "x = input('가로: ')\n",
    "y = input('세로: ')\n",
    "xy = int(x) * int(y)\n",
    "print('가로 ' + str(x) + ',', '세로 ' + str(y) + '인 직사각형의 넓이는', xy, '입니다.')"
   ]
  },
  {
   "cell_type": "markdown",
   "metadata": {},
   "source": [
    "<br><br><br>\n",
    "<span style=\"color:red\">연습문제 1.10 &nbsp;&nbsp;</span> 사용자로부터 초를 입력받아 분, 초로 변환하고, 변환된 시간을 출력하는 프로그램을 작성하라.\n",
    "\n",
    "<span style=\"color:orange\">변환할 시간을 입력하세요(단위: 초): <span style=\"color:blue\">500   \n",
    "<span style=\"color:orange\">8분 20초 입니다. </span> "
   ]
  },
  {
   "cell_type": "code",
   "execution_count": 6,
   "metadata": {},
   "outputs": [
    {
     "name": "stdout",
     "output_type": "stream",
     "text": [
      "변환할 시간을 입력하세요(단위: 초): 500\n",
      "8분 20초 입니다.\n"
     ]
    }
   ],
   "source": [
    "time = input('변환할 시간을 입력하세요(단위: 초): ')\n",
    "minute = int(time) // 60\n",
    "second = int(time) % 60\n",
    "print(str(minute) + '분 ' + str(second) + '초 입니다.')"
   ]
  },
  {
   "cell_type": "markdown",
   "metadata": {},
   "source": [
    "<br><br><br>\n",
    "<span style=\"color:red\">연습문제 1.11 &nbsp;&nbsp;</span> 사용자로부터 초를 입력받아 시간, 분, 초로 변환하고, 변환된 시간을 출력하는 프로그램을 작성하라.\n",
    "\n",
    "<span style=\"color:orange\">변환할 시간을 입력하세요(단위: 초): <span style=\"color:blue\">10000    \n",
    "<span style=\"color:orange\">2시간 46분 40초 입니다. </span> "
   ]
  },
  {
   "cell_type": "code",
   "execution_count": 7,
   "metadata": {},
   "outputs": [
    {
     "name": "stdout",
     "output_type": "stream",
     "text": [
      "변환할 시간을 입력하세요(단위: 초): 10000\n",
      "2시간 46분 40초 입니다.\n"
     ]
    }
   ],
   "source": [
    "time = input('변환할 시간을 입력하세요(단위: 초): ')\n",
    "hour = int(time) // 60 // 60\n",
    "minute = int(time) // 60 % 60\n",
    "second = int(time) % 60 \n",
    "print(str(hour) + '시간 ' + str(minute) + '분 ' + str(second) + '초 입니다.')"
   ]
  },
  {
   "cell_type": "markdown",
   "metadata": {},
   "source": [
    "<br><br><br>\n",
    "<span style=\"color:red\">연습문제 1.12 &nbsp;&nbsp;</span> 사용자로부터 현재 나이와 미래의 년도를 입력받아 미래의 년도에 몇 살이 되는지를 출력하는 프로그램을 작성하라.\n",
    "\n",
    "<span style=\"color:orange\">현재나이: <span style=\"color:blue\">25    \n",
    "<span style=\"color:orange\">미래 년도: <span style=\"color:blue\">2050    \n",
    "<span style=\"color:orange\">2050년에 당신의 나이는 58살 입니다. </span> "
   ]
  },
  {
   "cell_type": "code",
   "execution_count": 10,
   "metadata": {},
   "outputs": [
    {
     "name": "stdout",
     "output_type": "stream",
     "text": [
      "현재나이: 25\n",
      "미래년도: 2050\n",
      "2050년에 당신의 나이는 58살 입니다.\n"
     ]
    }
   ],
   "source": [
    "age1 = input('현재나이: ')\n",
    "year = input('미래년도: ')\n",
    "age2 = int(year) - 2017 + int(age1)\n",
    "print(str(year) + '년에 당신의 나이는 ' + str(age2) + '살 입니다.')"
   ]
  },
  {
   "cell_type": "code",
   "execution_count": null,
   "metadata": {},
   "outputs": [],
   "source": []
  }
 ],
 "metadata": {
  "kernelspec": {
   "display_name": "Python 3",
   "language": "python",
   "name": "python3"
  },
  "language_info": {
   "codemirror_mode": {
    "name": "ipython",
    "version": 3
   },
   "file_extension": ".py",
   "mimetype": "text/x-python",
   "name": "python",
   "nbconvert_exporter": "python",
   "pygments_lexer": "ipython3",
   "version": "3.6.5"
  }
 },
 "nbformat": 4,
 "nbformat_minor": 2
}
