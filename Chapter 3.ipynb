{
 "cells": [
  {
   "cell_type": "markdown",
   "metadata": {},
   "source": [
    "![](pic/pic_1.png)\n",
    "<br>\n",
    "\n",
    "# **3장  &nbsp;&nbsp;함수**  <br>\n"
   ]
  },
  {
   "cell_type": "markdown",
   "metadata": {
    "heading_collapsed": true
   },
   "source": [
    "## 1.  &nbsp;&nbsp;함수 호출\n"
   ]
  },
  {
   "cell_type": "markdown",
   "metadata": {
    "hidden": true
   },
   "source": [
    "\n",
    "프로그래밍에서, 함수(function)는 연산을 수행하는, 이름이 주어진 일련의 문장이다.  \n",
    "함수를 정의할 때, 이름과 일련의 문장을 명기한다.   \n",
    "나중에, 함수를 이름으로 ”호출(call)” 한다.   \n",
    "우리는 이미 함수 호출(function call)의 예제를 살펴봤다."
   ]
  },
  {
   "cell_type": "code",
   "execution_count": 1,
   "metadata": {
    "hidden": true,
    "scrolled": true
   },
   "outputs": [
    {
     "data": {
      "text/plain": [
       "int"
      ]
     },
     "execution_count": 1,
     "metadata": {},
     "output_type": "execute_result"
    }
   ],
   "source": [
    "type(32)"
   ]
  },
  {
   "cell_type": "markdown",
   "metadata": {
    "hidden": true
   },
   "source": [
    "함수명은 type이다.   \n",
    "괄호 안의 표현식을 함수의 인수(argument)라고 한다.   \n",
    "인수는 함수 입력으로 함수 내부로 전달되는 값이나 변수이다.   \n",
    "앞선 type() 함수를 실행한 결과는 int 이다.  \n",
    "**<span style=\"color:red\">함수는 매개변수(parameter)를 통하여 인수(argument)를 받아서 결과를 반환(return) 한다.</span>**     \n",
    "반환한 결과를 결과값(return value)이라 부른다."
   ]
  },
  {
   "cell_type": "markdown",
   "metadata": {
    "hidden": true
   },
   "source": [
    "<br>"
   ]
  },
  {
   "cell_type": "markdown",
   "metadata": {
    "heading_collapsed": true
   },
   "source": [
    "## 2.  내장(Built-in) 함수"
   ]
  },
  {
   "cell_type": "markdown",
   "metadata": {
    "hidden": true
   },
   "source": [
    "\n",
    "함수가 파이썬 내부에 이미 정의되어 있는 함수를 내장함수라 한다.   \n",
    "이런 함수는 정의할 필요없이 사용하면 된다.   \n",
    "공통의 문제를 해결할 수 있는 함수를 누구나 사용할 수 있도록 파이썬에 포함했다.  \n",
    "\n",
    "max()와 min() 함수는 내장함수로 리스트 최소값과 최대값을 각각 계산해서 출력한다.  "
   ]
  },
  {
   "cell_type": "code",
   "execution_count": 2,
   "metadata": {
    "hidden": true
   },
   "outputs": [
    {
     "data": {
      "text/plain": [
       "7"
      ]
     },
     "execution_count": 2,
     "metadata": {},
     "output_type": "execute_result"
    }
   ],
   "source": [
    "max(3,5,7)"
   ]
  },
  {
   "cell_type": "code",
   "execution_count": 3,
   "metadata": {
    "hidden": true
   },
   "outputs": [
    {
     "data": {
      "text/plain": [
       "'n'"
      ]
     },
     "execution_count": 3,
     "metadata": {},
     "output_type": "execute_result"
    }
   ],
   "source": [
    "max('hannam')"
   ]
  },
  {
   "cell_type": "code",
   "execution_count": 4,
   "metadata": {
    "hidden": true
   },
   "outputs": [
    {
     "data": {
      "text/plain": [
       "3"
      ]
     },
     "execution_count": 4,
     "metadata": {},
     "output_type": "execute_result"
    }
   ],
   "source": [
    "min(3,5,7)"
   ]
  },
  {
   "cell_type": "code",
   "execution_count": 5,
   "metadata": {
    "hidden": true
   },
   "outputs": [
    {
     "data": {
      "text/plain": [
       "'a'"
      ]
     },
     "execution_count": 5,
     "metadata": {},
     "output_type": "execute_result"
    }
   ],
   "source": [
    "min(\"hannam\")"
   ]
  },
  {
   "cell_type": "code",
   "execution_count": 6,
   "metadata": {
    "hidden": true
   },
   "outputs": [
    {
     "data": {
      "text/plain": [
       "'A'"
      ]
     },
     "execution_count": 6,
     "metadata": {},
     "output_type": "execute_result"
    }
   ],
   "source": [
    "min(\"AaBb\")"
   ]
  },
  {
   "cell_type": "code",
   "execution_count": 7,
   "metadata": {
    "hidden": true
   },
   "outputs": [
    {
     "data": {
      "text/plain": [
       "'b'"
      ]
     },
     "execution_count": 7,
     "metadata": {},
     "output_type": "execute_result"
    }
   ],
   "source": [
    "max(\"AaBb\")"
   ]
  },
  {
   "cell_type": "code",
   "execution_count": 8,
   "metadata": {
    "hidden": true
   },
   "outputs": [
    {
     "data": {
      "text/plain": [
       "True"
      ]
     },
     "execution_count": 8,
     "metadata": {},
     "output_type": "execute_result"
    }
   ],
   "source": [
    "'A'<'a'"
   ]
  },
  {
   "cell_type": "code",
   "execution_count": 9,
   "metadata": {
    "hidden": true
   },
   "outputs": [
    {
     "data": {
      "text/plain": [
       "65"
      ]
     },
     "execution_count": 9,
     "metadata": {},
     "output_type": "execute_result"
    }
   ],
   "source": [
    "ord('A')"
   ]
  },
  {
   "cell_type": "code",
   "execution_count": 10,
   "metadata": {
    "hidden": true
   },
   "outputs": [
    {
     "data": {
      "text/plain": [
       "97"
      ]
     },
     "execution_count": 10,
     "metadata": {},
     "output_type": "execute_result"
    }
   ],
   "source": [
    "ord('a')"
   ]
  },
  {
   "cell_type": "code",
   "execution_count": 11,
   "metadata": {
    "hidden": true
   },
   "outputs": [
    {
     "data": {
      "text/plain": [
       "'A'"
      ]
     },
     "execution_count": 11,
     "metadata": {},
     "output_type": "execute_result"
    }
   ],
   "source": [
    "chr(65)"
   ]
  },
  {
   "cell_type": "code",
   "execution_count": 12,
   "metadata": {
    "hidden": true
   },
   "outputs": [
    {
     "data": {
      "text/plain": [
       "'a'"
      ]
     },
     "execution_count": 12,
     "metadata": {},
     "output_type": "execute_result"
    }
   ],
   "source": [
    "chr(97)"
   ]
  },
  {
   "cell_type": "code",
   "execution_count": 13,
   "metadata": {
    "hidden": true
   },
   "outputs": [
    {
     "data": {
      "text/plain": [
       "'a'"
      ]
     },
     "execution_count": 13,
     "metadata": {},
     "output_type": "execute_result"
    }
   ],
   "source": [
    "chr(65)\n",
    "chr(97)"
   ]
  },
  {
   "cell_type": "markdown",
   "metadata": {
    "hidden": true
   },
   "source": [
    "** 매우 자주 사용되는 내장 함수는 얼마나 많은 항목이 있는지 출력하는 len( ) 함수가 있다. **   \n",
    "len 은 length 를 의미한다.  \n",
    "만약 len( ) 함수의 인수가 문자열이면 문자열에 있는 문자 갯수를 반환한다.\n",
    "\n",
    "다음 코드의 결과 값은?\n",
    "\n",
    "<p style=\"font-family: Courier New; font-size: 1.15em;\">\n",
    "len('Hello world')\n",
    "</p>"
   ]
  },
  {
   "cell_type": "code",
   "execution_count": 14,
   "metadata": {
    "hidden": true
   },
   "outputs": [
    {
     "data": {
      "text/plain": [
       "11"
      ]
     },
     "execution_count": 14,
     "metadata": {},
     "output_type": "execute_result"
    }
   ],
   "source": [
    "len('Hello world')"
   ]
  },
  {
   "cell_type": "markdown",
   "metadata": {
    "hidden": true
   },
   "source": [
    "이들 함수는 문자열에만 국한된 것이 아니라, 다양한 자료형에 사용된다.   \n",
    "내장함수 이름은 예약어로 취급해야 한다.   \n",
    "예를 들어, max 를 변수명으로 사용하지 말아야 한다."
   ]
  },
  {
   "cell_type": "markdown",
   "metadata": {
    "hidden": true
   },
   "source": [
    "<br>"
   ]
  },
  {
   "cell_type": "markdown",
   "metadata": {
    "heading_collapsed": true
   },
   "source": [
    "## 3.  자료형(type) 변환 함수"
   ]
  },
  {
   "cell_type": "markdown",
   "metadata": {
    "collapsed": true,
    "hidden": true
   },
   "source": [
    "한 자료형(type)에서 다른 자료형(type)으로 값을 변환하는 내장 함수가 있다.  \n",
    "\n",
    "int( ) 함수는 임의의 값을 입력받아 변환이 가능하면 정수형으로 변환하고, 그렇지 않으면 오류가 발생시킨다."
   ]
  },
  {
   "cell_type": "code",
   "execution_count": 15,
   "metadata": {
    "hidden": true
   },
   "outputs": [
    {
     "data": {
      "text/plain": [
       "32"
      ]
     },
     "execution_count": 15,
     "metadata": {},
     "output_type": "execute_result"
    }
   ],
   "source": [
    "int('32')"
   ]
  },
  {
   "cell_type": "code",
   "execution_count": 16,
   "metadata": {
    "hidden": true
   },
   "outputs": [
    {
     "ename": "ValueError",
     "evalue": "invalid literal for int() with base 10: 'Hello'",
     "output_type": "error",
     "traceback": [
      "\u001b[1;31m---------------------------------------------------------------------------\u001b[0m",
      "\u001b[1;31mValueError\u001b[0m                                Traceback (most recent call last)",
      "\u001b[1;32m<ipython-input-16-6765ce49acfe>\u001b[0m in \u001b[0;36m<module>\u001b[1;34m()\u001b[0m\n\u001b[1;32m----> 1\u001b[1;33m \u001b[0mint\u001b[0m\u001b[1;33m(\u001b[0m\u001b[1;34m'Hello'\u001b[0m\u001b[1;33m)\u001b[0m\u001b[1;33m\u001b[0m\u001b[0m\n\u001b[0m",
      "\u001b[1;31mValueError\u001b[0m: invalid literal for int() with base 10: 'Hello'"
     ]
    }
   ],
   "source": [
    "int('Hello')"
   ]
  },
  {
   "cell_type": "markdown",
   "metadata": {
    "collapsed": true,
    "hidden": true
   },
   "source": [
    "int( )는 부동 소수점 값을 정수로 변환할 수 있지만 소수점 이하를 절사한다."
   ]
  },
  {
   "cell_type": "code",
   "execution_count": 17,
   "metadata": {
    "hidden": true
   },
   "outputs": [
    {
     "data": {
      "text/plain": [
       "3"
      ]
     },
     "execution_count": 17,
     "metadata": {},
     "output_type": "execute_result"
    }
   ],
   "source": [
    "int(3.99999)"
   ]
  },
  {
   "cell_type": "code",
   "execution_count": 18,
   "metadata": {
    "hidden": true
   },
   "outputs": [
    {
     "data": {
      "text/plain": [
       "-2"
      ]
     },
     "execution_count": 18,
     "metadata": {},
     "output_type": "execute_result"
    }
   ],
   "source": [
    "int(-2.3)"
   ]
  },
  {
   "cell_type": "markdown",
   "metadata": {
    "hidden": true
   },
   "source": [
    "float( )는 정수와 문자열을 부동 소수점으로 변환한다."
   ]
  },
  {
   "cell_type": "code",
   "execution_count": 19,
   "metadata": {
    "hidden": true
   },
   "outputs": [
    {
     "data": {
      "text/plain": [
       "32.0"
      ]
     },
     "execution_count": 19,
     "metadata": {},
     "output_type": "execute_result"
    }
   ],
   "source": [
    "float(32)"
   ]
  },
  {
   "cell_type": "code",
   "execution_count": 20,
   "metadata": {
    "hidden": true
   },
   "outputs": [
    {
     "data": {
      "text/plain": [
       "3.14159"
      ]
     },
     "execution_count": 20,
     "metadata": {},
     "output_type": "execute_result"
    }
   ],
   "source": [
    "float('3.14159')"
   ]
  },
  {
   "cell_type": "markdown",
   "metadata": {
    "hidden": true
   },
   "source": [
    "마지막으로, str( )은 인자를 문자열로 변환한다."
   ]
  },
  {
   "cell_type": "code",
   "execution_count": 21,
   "metadata": {
    "hidden": true
   },
   "outputs": [
    {
     "data": {
      "text/plain": [
       "'32'"
      ]
     },
     "execution_count": 21,
     "metadata": {},
     "output_type": "execute_result"
    }
   ],
   "source": [
    "str(32)"
   ]
  },
  {
   "cell_type": "code",
   "execution_count": 22,
   "metadata": {
    "hidden": true
   },
   "outputs": [
    {
     "data": {
      "text/plain": [
       "'3.14159'"
      ]
     },
     "execution_count": 22,
     "metadata": {},
     "output_type": "execute_result"
    }
   ],
   "source": [
    "str(3.14159)"
   ]
  },
  {
   "cell_type": "markdown",
   "metadata": {
    "hidden": true
   },
   "source": [
    "<br>"
   ]
  },
  {
   "cell_type": "markdown",
   "metadata": {
    "heading_collapsed": true
   },
   "source": [
    "## 4. &nbsp;난수(Random numbers)   \n"
   ]
  },
  {
   "cell_type": "markdown",
   "metadata": {
    "collapsed": true,
    "hidden": true
   },
   "source": [
    "<br>\n",
    "random 모듈 안에 의사(유사) 난수를 생성하는 함수가 있다. (이하 의사 난수 대신 ”랜덤(random)”으로 간략히 부르기로 한다.)  \n",
    "\n",
    "random( ) 함수는 0.0과 1.0 사이의 부동 소수점 난수를 반환한다.  \n",
    "random( ) 함수는 0.0은 포함하지만 1.0은 포함하지 않는다.   \n",
    "매번 random( ) 함수를 호출할 때 마다, 이미 생성된 아주 긴 난수열에서 하나씩 하나씩 뽑는다.   "
   ]
  },
  {
   "cell_type": "code",
   "execution_count": 23,
   "metadata": {
    "hidden": true
   },
   "outputs": [
    {
     "ename": "NameError",
     "evalue": "name 'random' is not defined",
     "output_type": "error",
     "traceback": [
      "\u001b[1;31m---------------------------------------------------------------------------\u001b[0m",
      "\u001b[1;31mNameError\u001b[0m                                 Traceback (most recent call last)",
      "\u001b[1;32m<ipython-input-23-1e16b7152bea>\u001b[0m in \u001b[0;36m<module>\u001b[1;34m()\u001b[0m\n\u001b[1;32m----> 1\u001b[1;33m \u001b[0mrandom\u001b[0m\u001b[1;33m.\u001b[0m\u001b[0mrandom\u001b[0m\u001b[1;33m(\u001b[0m\u001b[1;33m)\u001b[0m\u001b[1;33m\u001b[0m\u001b[0m\n\u001b[0m",
      "\u001b[1;31mNameError\u001b[0m: name 'random' is not defined"
     ]
    }
   ],
   "source": [
    "random.random()"
   ]
  },
  {
   "cell_type": "markdown",
   "metadata": {
    "hidden": true
   },
   "source": [
    "random( ) 함수를 사용하기 위해서는, random( ) 함수가 정의된 random 모듈(module) 이라는 화일을 내 코드로 가져와야 한다. (포함 시켜야 한다.)  \n",
    "\n",
    "한번 모듈을 가져오면, 그 위치 아래의 모든 위치에서 가져온 모듈에 포함된 함수를 사용할 수 있다 (호출 할 수 있다)."
   ]
  },
  {
   "cell_type": "code",
   "execution_count": 24,
   "metadata": {
    "hidden": true
   },
   "outputs": [],
   "source": [
    "import random"
   ]
  },
  {
   "cell_type": "markdown",
   "metadata": {
    "hidden": true
   },
   "source": [
    "위 명령문은 random 이라는 모듈 객체(object)를 생성한다.   \n",
    "모듈 객체는 모듈에 정의된 함수들과 변수들을 담고 있다.   \n",
    "함수들 중에서 한 함수에 접근하기 위해서는, 모듈 이름과 함수 이름을 명시해야 하는데, 둘 사이에 점(구두점)을 찍어 구분한다.  \n",
    "이런 형식을 점 표기법(dot notation)이라고 부른다."
   ]
  },
  {
   "cell_type": "code",
   "execution_count": 25,
   "metadata": {
    "hidden": true
   },
   "outputs": [
    {
     "data": {
      "text/plain": [
       "0.8985246466808138"
      ]
     },
     "execution_count": 25,
     "metadata": {},
     "output_type": "execute_result"
    }
   ],
   "source": [
    "random.random()"
   ]
  },
  {
   "cell_type": "code",
   "execution_count": 26,
   "metadata": {
    "hidden": true
   },
   "outputs": [
    {
     "data": {
      "text/plain": [
       "0.8862756686227808"
      ]
     },
     "execution_count": 26,
     "metadata": {},
     "output_type": "execute_result"
    }
   ],
   "source": [
    "random.random()"
   ]
  },
  {
   "cell_type": "code",
   "execution_count": 27,
   "metadata": {
    "hidden": true
   },
   "outputs": [
    {
     "name": "stdout",
     "output_type": "stream",
     "text": [
      "0.21971520093529173\n",
      "0.7333673312666515\n",
      "0.14954191571080266\n",
      "0.7652015236076796\n",
      "0.06977860743213948\n",
      "0.2752161152953556\n",
      "0.17151002115326697\n",
      "0.894811467867444\n",
      "0.9600685303986323\n",
      "0.6443801215469013\n"
     ]
    }
   ],
   "source": [
    "for i in range(10):\n",
    "    x = random.random()\n",
    "    print(x)"
   ]
  },
  {
   "cell_type": "markdown",
   "metadata": {
    "hidden": true
   },
   "source": [
    "randint( ) 함수는 최저(low)와 최고(high) 매개 변수를 입력받아 최저값(low)과 최고값(high) 사이 (최저값과, 최저값 모두 포함) 정수를 랜덤하게반환한다."
   ]
  },
  {
   "cell_type": "code",
   "execution_count": 28,
   "metadata": {
    "hidden": true
   },
   "outputs": [
    {
     "data": {
      "text/plain": [
       "5"
      ]
     },
     "execution_count": 28,
     "metadata": {},
     "output_type": "execute_result"
    }
   ],
   "source": [
    "random.randint(5, 10)"
   ]
  },
  {
   "cell_type": "code",
   "execution_count": 29,
   "metadata": {
    "hidden": true
   },
   "outputs": [
    {
     "data": {
      "text/plain": [
       "8"
      ]
     },
     "execution_count": 29,
     "metadata": {},
     "output_type": "execute_result"
    }
   ],
   "source": [
    "random.randint(5, 10)"
   ]
  },
  {
   "cell_type": "code",
   "execution_count": 30,
   "metadata": {
    "hidden": true
   },
   "outputs": [
    {
     "name": "stdout",
     "output_type": "stream",
     "text": [
      "6\n",
      "5\n",
      "8\n",
      "10\n",
      "8\n",
      "8\n",
      "6\n",
      "9\n",
      "9\n",
      "6\n"
     ]
    }
   ],
   "source": [
    "for i in range(10):\n",
    "    x = random.randint(5,10)\n",
    "    print(x)"
   ]
  },
  {
   "cell_type": "markdown",
   "metadata": {
    "hidden": true
   },
   "source": [
    "무작위로 특정 열에서 하나의 요소를 뽑아내기 위해, choice( )를 사용한다."
   ]
  },
  {
   "cell_type": "code",
   "execution_count": 31,
   "metadata": {
    "hidden": true
   },
   "outputs": [
    {
     "data": {
      "text/plain": [
       "1"
      ]
     },
     "execution_count": 31,
     "metadata": {},
     "output_type": "execute_result"
    }
   ],
   "source": [
    "t = [1, 2, 3]\n",
    "random.choice(t)"
   ]
  },
  {
   "cell_type": "code",
   "execution_count": 32,
   "metadata": {
    "hidden": true
   },
   "outputs": [
    {
     "data": {
      "text/plain": [
       "3"
      ]
     },
     "execution_count": 32,
     "metadata": {},
     "output_type": "execute_result"
    }
   ],
   "source": [
    "random.choice(t)"
   ]
  },
  {
   "cell_type": "code",
   "execution_count": 33,
   "metadata": {
    "hidden": true,
    "scrolled": true
   },
   "outputs": [
    {
     "name": "stdout",
     "output_type": "stream",
     "text": [
      "2\n",
      "1\n",
      "2\n",
      "1\n",
      "2\n",
      "2\n",
      "2\n",
      "2\n",
      "3\n",
      "2\n"
     ]
    }
   ],
   "source": [
    "for i in range(10):\n",
    "    x = random.choice(t)\n",
    "    print(x)"
   ]
  },
  {
   "cell_type": "markdown",
   "metadata": {
    "hidden": true
   },
   "source": [
    "또한 random 모듈은 정규분포, 지수분포, 감마분포 및 기타 연속형 분포에서 난수를 생성하는 함수도 제공한다."
   ]
  },
  {
   "cell_type": "markdown",
   "metadata": {
    "heading_collapsed": true
   },
   "source": [
    "## 5.  &nbsp;수학 함수"
   ]
  },
  {
   "cell_type": "markdown",
   "metadata": {
    "hidden": true
   },
   "source": [
    "\n",
    "파이썬은 수학 함수를 제공하는 수학 모듈이 있다. \n",
    "수학 함수를 사용하기 전에, 수학 모듈을  가져와야한다."
   ]
  },
  {
   "cell_type": "code",
   "execution_count": 34,
   "metadata": {
    "hidden": true
   },
   "outputs": [],
   "source": [
    "import math"
   ]
  },
  {
   "cell_type": "markdown",
   "metadata": {
    "hidden": true
   },
   "source": [
    "상기 명령문은 math 라는 모듈 객체(object)를 생성한다.     \n",
    "모듈 객체를 출력하면, 모듈 객체에 대한 간단한 정보를 얻을 수 있다."
   ]
  },
  {
   "cell_type": "code",
   "execution_count": 35,
   "metadata": {
    "hidden": true
   },
   "outputs": [
    {
     "name": "stdout",
     "output_type": "stream",
     "text": [
      "Help on built-in module math:\n",
      "\n",
      "NAME\n",
      "    math\n",
      "\n",
      "DESCRIPTION\n",
      "    This module is always available.  It provides access to the\n",
      "    mathematical functions defined by the C standard.\n",
      "\n",
      "FUNCTIONS\n",
      "    acos(...)\n",
      "        acos(x)\n",
      "        \n",
      "        Return the arc cosine (measured in radians) of x.\n",
      "    \n",
      "    acosh(...)\n",
      "        acosh(x)\n",
      "        \n",
      "        Return the inverse hyperbolic cosine of x.\n",
      "    \n",
      "    asin(...)\n",
      "        asin(x)\n",
      "        \n",
      "        Return the arc sine (measured in radians) of x.\n",
      "    \n",
      "    asinh(...)\n",
      "        asinh(x)\n",
      "        \n",
      "        Return the inverse hyperbolic sine of x.\n",
      "    \n",
      "    atan(...)\n",
      "        atan(x)\n",
      "        \n",
      "        Return the arc tangent (measured in radians) of x.\n",
      "    \n",
      "    atan2(...)\n",
      "        atan2(y, x)\n",
      "        \n",
      "        Return the arc tangent (measured in radians) of y/x.\n",
      "        Unlike atan(y/x), the signs of both x and y are considered.\n",
      "    \n",
      "    atanh(...)\n",
      "        atanh(x)\n",
      "        \n",
      "        Return the inverse hyperbolic tangent of x.\n",
      "    \n",
      "    ceil(...)\n",
      "        ceil(x)\n",
      "        \n",
      "        Return the ceiling of x as an Integral.\n",
      "        This is the smallest integer >= x.\n",
      "    \n",
      "    copysign(...)\n",
      "        copysign(x, y)\n",
      "        \n",
      "        Return a float with the magnitude (absolute value) of x but the sign \n",
      "        of y. On platforms that support signed zeros, copysign(1.0, -0.0) \n",
      "        returns -1.0.\n",
      "    \n",
      "    cos(...)\n",
      "        cos(x)\n",
      "        \n",
      "        Return the cosine of x (measured in radians).\n",
      "    \n",
      "    cosh(...)\n",
      "        cosh(x)\n",
      "        \n",
      "        Return the hyperbolic cosine of x.\n",
      "    \n",
      "    degrees(...)\n",
      "        degrees(x)\n",
      "        \n",
      "        Convert angle x from radians to degrees.\n",
      "    \n",
      "    erf(...)\n",
      "        erf(x)\n",
      "        \n",
      "        Error function at x.\n",
      "    \n",
      "    erfc(...)\n",
      "        erfc(x)\n",
      "        \n",
      "        Complementary error function at x.\n",
      "    \n",
      "    exp(...)\n",
      "        exp(x)\n",
      "        \n",
      "        Return e raised to the power of x.\n",
      "    \n",
      "    expm1(...)\n",
      "        expm1(x)\n",
      "        \n",
      "        Return exp(x)-1.\n",
      "        This function avoids the loss of precision involved in the direct evaluation of exp(x)-1 for small x.\n",
      "    \n",
      "    fabs(...)\n",
      "        fabs(x)\n",
      "        \n",
      "        Return the absolute value of the float x.\n",
      "    \n",
      "    factorial(...)\n",
      "        factorial(x) -> Integral\n",
      "        \n",
      "        Find x!. Raise a ValueError if x is negative or non-integral.\n",
      "    \n",
      "    floor(...)\n",
      "        floor(x)\n",
      "        \n",
      "        Return the floor of x as an Integral.\n",
      "        This is the largest integer <= x.\n",
      "    \n",
      "    fmod(...)\n",
      "        fmod(x, y)\n",
      "        \n",
      "        Return fmod(x, y), according to platform C.  x % y may differ.\n",
      "    \n",
      "    frexp(...)\n",
      "        frexp(x)\n",
      "        \n",
      "        Return the mantissa and exponent of x, as pair (m, e).\n",
      "        m is a float and e is an int, such that x = m * 2.**e.\n",
      "        If x is 0, m and e are both 0.  Else 0.5 <= abs(m) < 1.0.\n",
      "    \n",
      "    fsum(...)\n",
      "        fsum(iterable)\n",
      "        \n",
      "        Return an accurate floating point sum of values in the iterable.\n",
      "        Assumes IEEE-754 floating point arithmetic.\n",
      "    \n",
      "    gamma(...)\n",
      "        gamma(x)\n",
      "        \n",
      "        Gamma function at x.\n",
      "    \n",
      "    gcd(...)\n",
      "        gcd(x, y) -> int\n",
      "        greatest common divisor of x and y\n",
      "    \n",
      "    hypot(...)\n",
      "        hypot(x, y)\n",
      "        \n",
      "        Return the Euclidean distance, sqrt(x*x + y*y).\n",
      "    \n",
      "    isclose(...)\n",
      "        isclose(a, b, *, rel_tol=1e-09, abs_tol=0.0) -> bool\n",
      "        \n",
      "        Determine whether two floating point numbers are close in value.\n",
      "        \n",
      "           rel_tol\n",
      "               maximum difference for being considered \"close\", relative to the\n",
      "               magnitude of the input values\n",
      "            abs_tol\n",
      "               maximum difference for being considered \"close\", regardless of the\n",
      "               magnitude of the input values\n",
      "        \n",
      "        Return True if a is close in value to b, and False otherwise.\n",
      "        \n",
      "        For the values to be considered close, the difference between them\n",
      "        must be smaller than at least one of the tolerances.\n",
      "        \n",
      "        -inf, inf and NaN behave similarly to the IEEE 754 Standard.  That\n",
      "        is, NaN is not close to anything, even itself.  inf and -inf are\n",
      "        only close to themselves.\n",
      "    \n",
      "    isfinite(...)\n",
      "        isfinite(x) -> bool\n",
      "        \n",
      "        Return True if x is neither an infinity nor a NaN, and False otherwise.\n",
      "    \n",
      "    isinf(...)\n",
      "        isinf(x) -> bool\n",
      "        \n",
      "        Return True if x is a positive or negative infinity, and False otherwise.\n",
      "    \n",
      "    isnan(...)\n",
      "        isnan(x) -> bool\n",
      "        \n",
      "        Return True if x is a NaN (not a number), and False otherwise.\n",
      "    \n",
      "    ldexp(...)\n",
      "        ldexp(x, i)\n",
      "        \n",
      "        Return x * (2**i).\n",
      "    \n",
      "    lgamma(...)\n",
      "        lgamma(x)\n",
      "        \n",
      "        Natural logarithm of absolute value of Gamma function at x.\n",
      "    \n",
      "    log(...)\n",
      "        log(x[, base])\n",
      "        \n",
      "        Return the logarithm of x to the given base.\n",
      "        If the base not specified, returns the natural logarithm (base e) of x.\n",
      "    \n",
      "    log10(...)\n",
      "        log10(x)\n",
      "        \n",
      "        Return the base 10 logarithm of x.\n",
      "    \n",
      "    log1p(...)\n",
      "        log1p(x)\n",
      "        \n",
      "        Return the natural logarithm of 1+x (base e).\n",
      "        The result is computed in a way which is accurate for x near zero.\n",
      "    \n",
      "    log2(...)\n",
      "        log2(x)\n",
      "        \n",
      "        Return the base 2 logarithm of x.\n",
      "    \n",
      "    modf(...)\n",
      "        modf(x)\n",
      "        \n",
      "        Return the fractional and integer parts of x.  Both results carry the sign\n",
      "        of x and are floats.\n",
      "    \n",
      "    pow(...)\n",
      "        pow(x, y)\n",
      "        \n",
      "        Return x**y (x to the power of y).\n",
      "    \n",
      "    radians(...)\n",
      "        radians(x)\n",
      "        \n",
      "        Convert angle x from degrees to radians.\n",
      "    \n",
      "    sin(...)\n",
      "        sin(x)\n",
      "        \n",
      "        Return the sine of x (measured in radians).\n",
      "    \n",
      "    sinh(...)\n",
      "        sinh(x)\n",
      "        \n",
      "        Return the hyperbolic sine of x.\n",
      "    \n",
      "    sqrt(...)\n",
      "        sqrt(x)\n",
      "        \n",
      "        Return the square root of x.\n",
      "    \n",
      "    tan(...)\n",
      "        tan(x)\n",
      "        \n",
      "        Return the tangent of x (measured in radians).\n",
      "    \n",
      "    tanh(...)\n",
      "        tanh(x)\n",
      "        \n",
      "        Return the hyperbolic tangent of x.\n",
      "    \n",
      "    trunc(...)\n",
      "        trunc(x:Real) -> Integral\n",
      "        \n",
      "        Truncates x to the nearest Integral toward 0. Uses the __trunc__ magic method.\n",
      "\n",
      "DATA\n",
      "    e = 2.718281828459045\n",
      "    inf = inf\n",
      "    nan = nan\n",
      "    pi = 3.141592653589793\n",
      "    tau = 6.283185307179586\n",
      "\n",
      "FILE\n",
      "    (built-in)\n",
      "\n",
      "\n"
     ]
    }
   ],
   "source": [
    "help(math)"
   ]
  },
  {
   "cell_type": "code",
   "execution_count": 36,
   "metadata": {
    "hidden": true
   },
   "outputs": [
    {
     "data": {
      "text/plain": [
       "1.4142135623730951"
      ]
     },
     "execution_count": 36,
     "metadata": {},
     "output_type": "execute_result"
    }
   ],
   "source": [
    "math.sqrt(2) "
   ]
  },
  {
   "cell_type": "code",
   "execution_count": 37,
   "metadata": {
    "hidden": true
   },
   "outputs": [
    {
     "data": {
      "text/plain": [
       "3.0"
      ]
     },
     "execution_count": 37,
     "metadata": {},
     "output_type": "execute_result"
    }
   ],
   "source": [
    "math.log2(8)"
   ]
  },
  {
   "cell_type": "code",
   "execution_count": 38,
   "metadata": {
    "hidden": true
   },
   "outputs": [
    {
     "data": {
      "text/plain": [
       "1024.0"
      ]
     },
     "execution_count": 38,
     "metadata": {},
     "output_type": "execute_result"
    }
   ],
   "source": [
    "math.pow(2,10)"
   ]
  },
  {
   "cell_type": "markdown",
   "metadata": {
    "heading_collapsed": true
   },
   "source": [
    "## 6.  &nbsp;새로운 함수 만들기\n"
   ]
  },
  {
   "cell_type": "markdown",
   "metadata": {
    "hidden": true
   },
   "source": [
    "\n",
    "새로운 함수를 만들어 사용하려면, 먼저 함수를 정의하여야 한다.   \n",
    "함수 정의(function definition)단계에서는 새로운 함수 이름과 함수가 호출될 때 실행될 일련의 문장을 명시한다.  \n",
    "함수를 정의하면, 프로그램 실행 중에 반복해서 함수를 재사용할 수 있다.\n",
    "\n",
    "<p style=\"font-family: Courier New; font-size: 1.15em; \">\n",
    "def print_acmu():  \n",
    "&nbsp;&nbsp;&nbsp;&nbsp;print(\"별 하나 있고\")  \n",
    "&nbsp;&nbsp;&nbsp;&nbsp;print(\"너 하나 있는\")  \n",
    "&nbsp;&nbsp;&nbsp;&nbsp;print(\"그곳이 내 오랜 밤이었어.\")\n",
    "</p>\n",
    "\n",
    "def는 \"함수 정의는 다음과 같다\"를 표시하는 예약어 이다.   \n",
    "함수 이름은 print_acmu 이다.   \n",
    "\n",
    "함수이름을 만드는 규칙은 변수 이름을 만드는 규칙과 동일하다.   \n",
    "문자, 숫자, 그리고 몇몇 문장부호는 사용할 수 있지만, 첫 문자가 숫자는 될 수 없다.   \n",
    "함수이름으로 예약어를 사용할 수 없고, 함수 이름과 동일한 변수명은 피해야 한다.  \n",
    "\n",
    "함수 이름 뒤 빈 괄호는 이 함수가 어떠한 인수(argument)도 갖지 않는다는 것을 나타낸다.  \n",
    "함수 정의의 첫 번째줄을 머리부문(헤더, header), 나머지 부문을 몸통부문(body)라고 부른다.   \n",
    "**<p style=\"color:red\">함수 정의의 머리 부문은 콜론(:)으로 끝나고, 몸통 부문은 들여쓰기를 해야 한다.</p>** \n",
    "파이썬에서 들여쓰기는 항상 4칸 공백이다. "
   ]
  },
  {
   "cell_type": "code",
   "execution_count": 39,
   "metadata": {
    "hidden": true
   },
   "outputs": [],
   "source": [
    "def print_acmu():\n",
    "    print(\"별 하나 있고\")\n",
    "    print(\"너 하나 있는\")\n",
    "    print(\"그곳이 내 오랜 밤이었어.\")"
   ]
  },
  {
   "cell_type": "markdown",
   "metadata": {
    "hidden": true
   },
   "source": [
    "정의한 함수를 호출하는 방법은 내장 함수의 경우와 동일하다.  \n",
    "아래 셀에서 print_acmu( )함수를 호출해 보자."
   ]
  },
  {
   "cell_type": "code",
   "execution_count": 40,
   "metadata": {
    "hidden": true
   },
   "outputs": [
    {
     "name": "stdout",
     "output_type": "stream",
     "text": [
      "별 하나 있고\n",
      "너 하나 있는\n",
      "그곳이 내 오랜 밤이었어.\n"
     ]
    }
   ],
   "source": [
    "print_acmu()"
   ]
  },
  {
   "cell_type": "markdown",
   "metadata": {
    "hidden": true
   },
   "source": [
    "한번 정의된 함수는 몇 번이고 반복해서 호출할 수 있다.  \n",
    "\n",
    "연달아 두번 호출해 보자."
   ]
  },
  {
   "cell_type": "code",
   "execution_count": 41,
   "metadata": {
    "hidden": true
   },
   "outputs": [
    {
     "name": "stdout",
     "output_type": "stream",
     "text": [
      "별 하나 있고\n",
      "너 하나 있는\n",
      "그곳이 내 오랜 밤이었어.\n",
      "별 하나 있고\n",
      "너 하나 있는\n",
      "그곳이 내 오랜 밤이었어.\n"
     ]
    }
   ],
   "source": [
    "print_acmu()\n",
    "print_acmu()"
   ]
  },
  {
   "cell_type": "markdown",
   "metadata": {
    "collapsed": true,
    "hidden": true
   },
   "source": [
    "정의된 함수는, 또 다른 함수의 내부에서 사용이 가능하다.     \n",
    "\n",
    "예를 들어, 이전에 선언한 함수 print_acmu( )를 반복하기 위해 repeat_acmu( ) 함수를 아래 셀과 같이 작성할 수 있다."
   ]
  },
  {
   "cell_type": "code",
   "execution_count": 42,
   "metadata": {
    "hidden": true
   },
   "outputs": [],
   "source": [
    "def repeat_acmu():\n",
    "    print_acmu()\n",
    "    print_acmu()\n",
    "    print_acmu()"
   ]
  },
  {
   "cell_type": "markdown",
   "metadata": {
    "hidden": true
   },
   "source": [
    "이제, repeat_acmu( ) 함수를 호출하면, 악동뮤지션의 \"오랜 날 오랜 밤\" 가사가 몇 번 반복해서 인쇄될까?"
   ]
  },
  {
   "cell_type": "code",
   "execution_count": 43,
   "metadata": {
    "hidden": true
   },
   "outputs": [
    {
     "name": "stdout",
     "output_type": "stream",
     "text": [
      "별 하나 있고\n",
      "너 하나 있는\n",
      "그곳이 내 오랜 밤이었어.\n",
      "별 하나 있고\n",
      "너 하나 있는\n",
      "그곳이 내 오랜 밤이었어.\n",
      "별 하나 있고\n",
      "너 하나 있는\n",
      "그곳이 내 오랜 밤이었어.\n"
     ]
    }
   ],
   "source": [
    "repeat_acmu()"
   ]
  },
  {
   "cell_type": "markdown",
   "metadata": {
    "heading_collapsed": true
   },
   "source": [
    "## 7.  &nbsp;함수 정의와 호출의 순서\n"
   ]
  },
  {
   "cell_type": "markdown",
   "metadata": {
    "hidden": true
   },
   "source": [
    "함수 정의는 다른 문장처럼 수행되지만, 함수 객체를 생성한다는 점에서 차이가 있다. \n",
    "\n",
    "함수의 내부 문장은 함수가 호출되기 전까지 수행되지 않으므로, 출력값도 생성하지 않는다.\n",
    "\n",
    "예상하듯이, 함수를 실행하기 전에 함수를 생성해야 한다. \n",
    "\n",
    "다시 말해서, 처음으로 함수를 호출되기 전에 함수가 정의 되어야 한다."
   ]
  },
  {
   "cell_type": "code",
   "execution_count": 44,
   "metadata": {
    "hidden": true
   },
   "outputs": [
    {
     "ename": "NameError",
     "evalue": "name 'obbaya' is not defined",
     "output_type": "error",
     "traceback": [
      "\u001b[1;31m---------------------------------------------------------------------------\u001b[0m",
      "\u001b[1;31mNameError\u001b[0m                                 Traceback (most recent call last)",
      "\u001b[1;32m<ipython-input-44-9dccf08b4375>\u001b[0m in \u001b[0;36m<module>\u001b[1;34m()\u001b[0m\n\u001b[1;32m----> 1\u001b[1;33m \u001b[0mobbaya\u001b[0m\u001b[1;33m(\u001b[0m\u001b[1;33m)\u001b[0m\u001b[1;33m\u001b[0m\u001b[0m\n\u001b[0m\u001b[0;32m      2\u001b[0m \u001b[1;33m\u001b[0m\u001b[0m\n\u001b[0;32m      3\u001b[0m \u001b[1;32mdef\u001b[0m \u001b[0mobbaya\u001b[0m\u001b[1;33m(\u001b[0m\u001b[1;33m)\u001b[0m\u001b[1;33m:\u001b[0m\u001b[1;33m\u001b[0m\u001b[0m\n\u001b[0;32m      4\u001b[0m     \u001b[0mprint\u001b[0m\u001b[1;33m(\u001b[0m\u001b[1;34m\"오빠야\"\u001b[0m\u001b[1;33m)\u001b[0m\u001b[1;33m\u001b[0m\u001b[0m\n\u001b[0;32m      5\u001b[0m     \u001b[0mprint\u001b[0m\u001b[1;33m(\u001b[0m\u001b[1;34m\"내가 진짜 좋아하는 사람이 생겨서\"\u001b[0m\u001b[1;33m)\u001b[0m\u001b[1;33m\u001b[0m\u001b[0m\n",
      "\u001b[1;31mNameError\u001b[0m: name 'obbaya' is not defined"
     ]
    }
   ],
   "source": [
    "obbaya()\n",
    "\n",
    "def obbaya():\n",
    "    print(\"오빠야\")\n",
    "    print(\"내가 진짜 좋아하는 사람이 생겨서\")"
   ]
  },
  {
   "cell_type": "code",
   "execution_count": 45,
   "metadata": {
    "hidden": true
   },
   "outputs": [
    {
     "name": "stdout",
     "output_type": "stream",
     "text": [
      "오빠야\n",
      "내가 진짜 좋아하는 사람이 생겨서\n"
     ]
    }
   ],
   "source": [
    "def obbaya2():\n",
    "    print(\"오빠야\")\n",
    "    print(\"내가 진짜 좋아하는 사람이 생겨서\")\n",
    "    \n",
    "obbaya2()"
   ]
  },
  {
   "cell_type": "markdown",
   "metadata": {
    "heading_collapsed": true
   },
   "source": [
    "## 8. 매개변수(parameter) 및 전달인자(argument)\n"
   ]
  },
  {
   "cell_type": "markdown",
   "metadata": {
    "hidden": true
   },
   "source": [
    "\n",
    "* 함수를 정의할 때, 함수이름 다음에 나오는 괄호 안에 (고유한) 변수이름이 들어 갈 수 있는데, 이 변수들을 매개변수(파라메터)라 부른다.\n",
    "* 이 파라메터에 어떤 값을 전달하느냐에 따라 함수의 결과는 달라질 수 있다.\n",
    "* 함수를 호출할 때, 매개변수에 전달되는 값을 전달인자(argument)라고 부른다."
   ]
  },
  {
   "cell_type": "code",
   "execution_count": 46,
   "metadata": {
    "hidden": true
   },
   "outputs": [
    {
     "name": "stdout",
     "output_type": "stream",
     "text": [
      "오빠야\n",
      "내가 진짜 좋아하는 사람이 생겨서\n",
      "\n",
      "\n",
      "누나야\n",
      "내가 진짜 좋아하는 사람이 생겨서\n"
     ]
    }
   ],
   "source": [
    "def obbaya3(aaa):\n",
    "    print(aaa)\n",
    "    print(\"내가 진짜 좋아하는 사람이 생겨서\")\n",
    "    \n",
    "obbaya3(\"오빠야\")\n",
    "print()\n",
    "print()\n",
    "obbaya3(\"누나야\")"
   ]
  },
  {
   "cell_type": "code",
   "execution_count": 47,
   "metadata": {
    "hidden": true
   },
   "outputs": [
    {
     "name": "stdout",
     "output_type": "stream",
     "text": [
      "오빠야는 축구를 좋아한다\n",
      "\n",
      "\n",
      "정은이는 핵무기를 좋아한다\n"
     ]
    }
   ],
   "source": [
    "def obbaya4(name, sport):\n",
    "    print(name+\"는 \"+sport+\"를 좋아한다\")\n",
    "    \n",
    "obbaya4(\"오빠야\", \"축구\")\n",
    "print()\n",
    "print()\n",
    "obbaya4(\"정은이\", \"핵무기\")"
   ]
  },
  {
   "cell_type": "code",
   "execution_count": 48,
   "metadata": {
    "hidden": true
   },
   "outputs": [
    {
     "name": "stdout",
     "output_type": "stream",
     "text": [
      "25\n"
     ]
    }
   ],
   "source": [
    "def plus20(x):\n",
    "    print(x+20)\n",
    "    \n",
    "plus20(5)"
   ]
  },
  {
   "cell_type": "code",
   "execution_count": 49,
   "metadata": {
    "hidden": true
   },
   "outputs": [
    {
     "name": "stdout",
     "output_type": "stream",
     "text": [
      "가을바람 가을바람 가을바람 \n"
     ]
    }
   ],
   "source": [
    "def repeat(name,num):\n",
    "    print(name*num)\n",
    "\n",
    "repeat(\"가을바람 \",3)"
   ]
  },
  {
   "cell_type": "markdown",
   "metadata": {
    "heading_collapsed": true
   },
   "source": [
    "## 9. 반환(return)\n"
   ]
  },
  {
   "cell_type": "markdown",
   "metadata": {
    "hidden": true
   },
   "source": [
    "\n",
    "* 지금까지 우리는 함수 안에서 print( )문을 사용하였다. \n",
    "* 그런데, 실제 프로그램에서는 함수의 결과를 변수로 받아 계속해서 사용하는 경우가 대부분이다.\n",
    "* 이때 사용하는 것이 return 이다. \n",
    "* return 다음에 오는 값을 함수가 반환(return)한다고 말한다."
   ]
  },
  {
   "cell_type": "code",
   "execution_count": 50,
   "metadata": {
    "hidden": true
   },
   "outputs": [
    {
     "name": "stdout",
     "output_type": "stream",
     "text": [
      "10\n"
     ]
    }
   ],
   "source": [
    "def doobae(x):\n",
    "    y=2*x\n",
    "    print(y)\n",
    "    \n",
    "doobae(5)"
   ]
  },
  {
   "cell_type": "code",
   "execution_count": 51,
   "metadata": {
    "hidden": true
   },
   "outputs": [
    {
     "name": "stdout",
     "output_type": "stream",
     "text": [
      "10\n",
      "k값은  None\n"
     ]
    },
    {
     "ename": "TypeError",
     "evalue": "unsupported operand type(s) for *: 'NoneType' and 'int'",
     "output_type": "error",
     "traceback": [
      "\u001b[1;31m---------------------------------------------------------------------------\u001b[0m",
      "\u001b[1;31mTypeError\u001b[0m                                 Traceback (most recent call last)",
      "\u001b[1;32m<ipython-input-51-5228acfd288a>\u001b[0m in \u001b[0;36m<module>\u001b[1;34m()\u001b[0m\n\u001b[0;32m      5\u001b[0m \u001b[0mk\u001b[0m\u001b[1;33m=\u001b[0m\u001b[0mdoobae\u001b[0m\u001b[1;33m(\u001b[0m\u001b[1;36m5\u001b[0m\u001b[1;33m)\u001b[0m\u001b[1;33m\u001b[0m\u001b[0m\n\u001b[0;32m      6\u001b[0m \u001b[0mprint\u001b[0m\u001b[1;33m(\u001b[0m\u001b[1;34m\"k값은 \"\u001b[0m\u001b[1;33m,\u001b[0m \u001b[0mk\u001b[0m\u001b[1;33m)\u001b[0m\u001b[1;33m\u001b[0m\u001b[0m\n\u001b[1;32m----> 7\u001b[1;33m \u001b[0mk\u001b[0m\u001b[1;33m*\u001b[0m\u001b[1;36m2\u001b[0m\u001b[1;33m\u001b[0m\u001b[0m\n\u001b[0m",
      "\u001b[1;31mTypeError\u001b[0m: unsupported operand type(s) for *: 'NoneType' and 'int'"
     ]
    }
   ],
   "source": [
    "def doobae(x):\n",
    "    y=2*x\n",
    "    print(y)\n",
    "    \n",
    "k=doobae(5)\n",
    "print(\"k값은 \", k)\n",
    "k*2"
   ]
  },
  {
   "cell_type": "code",
   "execution_count": 52,
   "metadata": {
    "hidden": true
   },
   "outputs": [
    {
     "name": "stdout",
     "output_type": "stream",
     "text": [
      "k값은  10\n"
     ]
    },
    {
     "data": {
      "text/plain": [
       "50"
      ]
     },
     "execution_count": 52,
     "metadata": {},
     "output_type": "execute_result"
    }
   ],
   "source": [
    "def doobae(x):\n",
    "    y=2*x\n",
    "    return y\n",
    "    \n",
    "k=doobae(5)\n",
    "print(\"k값은 \", k)\n",
    "k*5"
   ]
  },
  {
   "cell_type": "markdown",
   "metadata": {
    "heading_collapsed": true
   },
   "source": [
    "## 10. 왜 함수를 사용하는가?\n"
   ]
  },
  {
   "cell_type": "markdown",
   "metadata": {
    "hidden": true
   },
   "source": [
    "\n",
    "* 문장을 그룹으로 만들어 새로운 함수로 명명하는 것이 프로그램을 읽고, 이해하고, 디버그하기 좋게한다. \n",
    "* 함수는 반복 코드를 제거해서 프로그램을 작고 콤팩트하게 만든다. 나중에 프로그램에 수정사항이 생기면, 단지 한 곳에서만 수정을 하면 된다.  \n",
    "* 긴 프로그램을 함수로 나누어 작성하는 것은 작은 부분에서 버그를 수정할 수 있게 하고, 이를 조합해서 전체적으로 동작하는 프로그램을 만들 수 있다.  \n",
    "* 잘 설계된 함수는 종종 많은 프로그램에서 유용하게 사용된다. 잘 설계된 프로그램을 작성하고 디버그를 해서 오류가 없이 만들게 되면, 나중에 재사용도 용이하다.\n",
    "\n"
   ]
  },
  {
   "cell_type": "markdown",
   "metadata": {},
   "source": [
    "## <span style=\"color:red\">** 연습문제 **</span>  "
   ]
  },
  {
   "cell_type": "markdown",
   "metadata": {},
   "source": [
    "<br>\n",
    "<span style=\"color:red\">연습문제 3.1 &nbsp;&nbsp;</span> 다음 파이썬 프로그램은 무엇을 출력할까?\n",
    "\n",
    "<p style=\"font-family: Courier New; font-size: 1.15em; \">\n",
    "def fred():  \n",
    "&nbsp;&nbsp;&nbsp;&nbsp;print(\"Zap\")<p>\n",
    "\n",
    "<p style=\"font-family: Courier New; font-size: 1.15em; \">\n",
    "def jane():  \n",
    " &nbsp;&nbsp;&nbsp;&nbsp;print(\"ABC\")\n",
    "<p>\n",
    "\n",
    "<p style=\"font-family: Courier New; font-size: 1.15em; \">\n",
    "jane()  \n",
    "fred()  \n",
    "jane()  \n",
    "<br>\n",
    "a) Zap ABC jane fred jane  \n",
    "b) Zap ABC Zap  \n",
    "c) ABC Zap jane  \n",
    "d) ABC Zap ABC  \n",
    "e) Zap Zap Zap\n",
    "</p>"
   ]
  },
  {
   "cell_type": "code",
   "execution_count": 53,
   "metadata": {},
   "outputs": [
    {
     "name": "stdout",
     "output_type": "stream",
     "text": [
      "ABC\n",
      "Zap\n",
      "ABC\n"
     ]
    }
   ],
   "source": [
    "def fred():\n",
    "    print(\"Zap\")\n",
    "\n",
    "def jane():\n",
    "    print(\"ABC\")\n",
    "\n",
    "jane()\n",
    "fred()\n",
    "jane()"
   ]
  },
  {
   "cell_type": "markdown",
   "metadata": {
    "collapsed": true
   },
   "source": [
    "<br><br><br>\n",
    "<span style=\"color:red\">연습문제 3.2&nbsp;&nbsp; </span>   \n",
    "매개변수 city를 사용하여,  출생도시의 이름을 전달받아 다음과 같이 인쇄하는 함수 born(city)를 작성하라.  \n",
    "\n",
    "<p style=\"font-family: Courier New; font-size: 1.15em; color: blue; \">코딩 힌트:  \n",
    "def born(city):  \n",
    "&nbsp;&nbsp;&nbsp;&nbsp;여기에 코딩을 추가<p>\n",
    "\n",
    "\n",
    "<br>\n",
    "다음은 프로그램 호출의 예를 보여준다.\n",
    "\n",
    "<span style=\"color:blue\"> born(\"대전\") </span>  \n",
    "<span style=\"color:orange\">당신은 대전에서 태어났습니다. </span>   \n",
    "\n",
    "<span style=\"color:blue\"> born(\"서울\") </span>  \n",
    "<span style=\"color:orange\">당신은 서울에서 태어났습니다. </span>   "
   ]
  },
  {
   "cell_type": "code",
   "execution_count": 56,
   "metadata": {},
   "outputs": [
    {
     "name": "stdout",
     "output_type": "stream",
     "text": [
      "당신은 대전에서 태어났습니다.\n",
      "\n",
      "당신은 서울에서 태어났습니다.\n"
     ]
    }
   ],
   "source": [
    "def born(city) :\n",
    "    print('당신은 ' + city + '에서 태어났습니다.')\n",
    "\n",
    "born(\"대전\")\n",
    "print()\n",
    "born(\"서울\")"
   ]
  },
  {
   "cell_type": "markdown",
   "metadata": {},
   "source": [
    "<br>\n",
    "<span style=\"color:red\">연습문제 3.3 </span> &nbsp;&nbsp; \n",
    "매개 변수 first 및 last로 이름 및 성을 받아 아래와 같은 문자열을 반환하는 name(first,last) 함수를 작성하라.\n",
    "\n",
    "<p style=\"font-family: Courier New; font-size: 1.15em; color: blue; \">코딩 힌트:  \n",
    "def name(first,last):  \n",
    "&nbsp;&nbsp;&nbsp;&nbsp;여기에 코딩을 추가<p>\n",
    "\n",
    "\n",
    "<br>\n",
    "다음은 프로그램 호출의 예를 보여준다.\n",
    "\n",
    "<span style=\"color:blue\">print(name(\"흥민\", \"손\"))  \n",
    "<span style=\"color:orange\">나의 이름은 손흥민 입니다.\n",
    "\n",
    "<span style=\"color:blue\">print(name(\"호동\", \"강\"))  \n",
    "<span style=\"color:orange\">나의 이름은 강호동 입니다.\n"
   ]
  },
  {
   "cell_type": "code",
   "execution_count": 65,
   "metadata": {},
   "outputs": [
    {
     "name": "stdout",
     "output_type": "stream",
     "text": [
      "나의 이름은 손흥민 입니다.\n",
      "\n",
      "나의 이름은 강호동 입니다.\n"
     ]
    }
   ],
   "source": [
    "def name (first, last) :\n",
    "    hi = '나의 이름은 ' + last + first + ' 입니다.'\n",
    "    return hi\n",
    "\n",
    "print(name(\"흥민\",\"손\"))\n",
    "print()\n",
    "print(name(\"호동\",\"강\"))"
   ]
  },
  {
   "cell_type": "markdown",
   "metadata": {},
   "source": [
    "<br>\n",
    "<span style=\"color:red\">연습문제 3.4 </span> &nbsp;&nbsp; \n",
    "매개 변수 first, last, num으로 이름, 성, 및 반복횟수를 받아 아래와 같은 문자열을 반환하는 name2( ) 함수를 작성하라.\n",
    "\n",
    "다음은 프로그램 호출의 예를 보여준다.\n",
    "\n",
    "<span style=\"color:blue\">name2(\"흥민\", \"손\", 3)  \n",
    "<span style=\"color:orange\">나의 이름은 손흥민 손흥민 손흥민입니다."
   ]
  },
  {
   "cell_type": "code",
   "execution_count": 75,
   "metadata": {},
   "outputs": [
    {
     "name": "stdout",
     "output_type": "stream",
     "text": [
      "나의 이름은 흥민손 흥민손 흥민손입니다.\n"
     ]
    }
   ],
   "source": [
    "def name2(first, last, num) :\n",
    "    print('나의 이름은' + (' ' + first + last) * num + '입니다.')\n",
    "\n",
    "name2(\"흥민\", \"손\", 3)"
   ]
  },
  {
   "cell_type": "markdown",
   "metadata": {},
   "source": [
    "<br>\n",
    "<span style=\"color:red\">연습문제 3.5 </span> &nbsp;&nbsp; \n",
    "매개 변수 width 및 height로 가로 및 세로의 길이를 받아 아래와 같은 문자열을 반환하는 area( ) 함수를 작성하라.\n",
    "\n",
    "다음은 프로그램 호출의 예를 보여준다.\n",
    "\n",
    "<span style=\"color:blue\">print(area(10, 20))  \n",
    "<span style=\"color:orange\">200 "
   ]
  },
  {
   "cell_type": "code",
   "execution_count": 76,
   "metadata": {},
   "outputs": [
    {
     "name": "stdout",
     "output_type": "stream",
     "text": [
      "200\n"
     ]
    }
   ],
   "source": [
    "def area(width, height) :\n",
    "    wh = width * height\n",
    "    return wh\n",
    "\n",
    "print(area(10, 20))"
   ]
  },
  {
   "cell_type": "markdown",
   "metadata": {},
   "source": [
    "<span style=\"color:red\">연습문제 3.6 </span> &nbsp;&nbsp;\n",
    "매개 변수가 없으며 1 – 45 사의 숫자 7개를 랜덤하게 인쇄하는 lotto() 함수를 작성하라.   \n",
    "단, 7개의 숫자중 일부가 중복되어도 무방하다. (중복되지 않도록 하기 위한 방법은 추후 배울 내용에 있다.)\n",
    "\n",
    "다음은 프로그램 호출의 예를 보여준다.\n",
    "\n",
    "<span style=\"color:blue\">lotto()  \n",
    "<span style=\"color:orange\">\n",
    "15  \n",
    "3  \n",
    "38  \n",
    "42  \n",
    "26  \n",
    "8  \n",
    "29  "
   ]
  },
  {
   "cell_type": "code",
   "execution_count": 1,
   "metadata": {},
   "outputs": [
    {
     "ename": "NameError",
     "evalue": "name 'random' is not defined",
     "output_type": "error",
     "traceback": [
      "\u001b[1;31m---------------------------------------------------------------------------\u001b[0m",
      "\u001b[1;31mNameError\u001b[0m                                 Traceback (most recent call last)",
      "\u001b[1;32m<ipython-input-1-65a5ac618f3b>\u001b[0m in \u001b[0;36m<module>\u001b[1;34m()\u001b[0m\n\u001b[0;32m      4\u001b[0m         \u001b[0mprint\u001b[0m\u001b[1;33m(\u001b[0m\u001b[0mi\u001b[0m\u001b[1;33m)\u001b[0m\u001b[1;33m\u001b[0m\u001b[0m\n\u001b[0;32m      5\u001b[0m \u001b[1;33m\u001b[0m\u001b[0m\n\u001b[1;32m----> 6\u001b[1;33m \u001b[0mlotto\u001b[0m\u001b[1;33m(\u001b[0m\u001b[1;33m)\u001b[0m\u001b[1;33m\u001b[0m\u001b[0m\n\u001b[0m",
      "\u001b[1;32m<ipython-input-1-65a5ac618f3b>\u001b[0m in \u001b[0;36mlotto\u001b[1;34m()\u001b[0m\n\u001b[0;32m      1\u001b[0m \u001b[1;32mdef\u001b[0m \u001b[0mlotto\u001b[0m\u001b[1;33m(\u001b[0m\u001b[1;33m)\u001b[0m \u001b[1;33m:\u001b[0m\u001b[1;33m\u001b[0m\u001b[0m\n\u001b[0;32m      2\u001b[0m     \u001b[1;32mfor\u001b[0m \u001b[0mi\u001b[0m \u001b[1;32min\u001b[0m \u001b[0mrange\u001b[0m\u001b[1;33m(\u001b[0m\u001b[1;36m7\u001b[0m\u001b[1;33m)\u001b[0m \u001b[1;33m:\u001b[0m\u001b[1;33m\u001b[0m\u001b[0m\n\u001b[1;32m----> 3\u001b[1;33m         \u001b[0mi\u001b[0m \u001b[1;33m=\u001b[0m \u001b[0mrandom\u001b[0m\u001b[1;33m.\u001b[0m\u001b[0mrandint\u001b[0m\u001b[1;33m(\u001b[0m\u001b[1;36m1\u001b[0m\u001b[1;33m,\u001b[0m \u001b[1;36m45\u001b[0m\u001b[1;33m)\u001b[0m\u001b[1;33m\u001b[0m\u001b[0m\n\u001b[0m\u001b[0;32m      4\u001b[0m         \u001b[0mprint\u001b[0m\u001b[1;33m(\u001b[0m\u001b[0mi\u001b[0m\u001b[1;33m)\u001b[0m\u001b[1;33m\u001b[0m\u001b[0m\n\u001b[0;32m      5\u001b[0m \u001b[1;33m\u001b[0m\u001b[0m\n",
      "\u001b[1;31mNameError\u001b[0m: name 'random' is not defined"
     ]
    }
   ],
   "source": [
    "def lotto() :\n",
    "    for i in range(7) :\n",
    "        i = random.randint(1, 45)\n",
    "        print(i)\n",
    "\n",
    "lotto()"
   ]
  },
  {
   "cell_type": "markdown",
   "metadata": {},
   "source": [
    "<span style=\"color:red\">연습문제 3.7 </span> &nbsp;&nbsp;\n",
    "computegrade() 함수를 사용하여 앞장의 등급 프로그램을 다시 작성하라.\n",
    "\n",
    "Score Grade  \n",
    "<pre>>= 0.9   A  \n",
    ">= 0.8   B  \n",
    ">= 0.7   C  \n",
    ">= 0.6   D  \n",
    "< 0.6    F  </pre>\n",
    "\n",
    "<br><br>\n",
    "다음은 프로그램 호출의 예를 보여준다.\n",
    "\n",
    "<span style=\"color:blue\">computegrade()   \n",
    "<span style=\"color:orange\">Enter score: <span style=\"color:blue\">0.95  \n",
    "<span style=\"color:orange\">A \n",
    "\n",
    "<span style=\"color:blue\">computegrade()   \n",
    "<span style=\"color:orange\">Enter score: <span style=\"color:blue\">perfect  \n",
    "<span style=\"color:orange\">Bad score\n",
    "\n",
    "<span style=\"color:blue\">computegrade()   \n",
    "<span style=\"color:orange\">Enter score: <span style=\"color:blue\">10.0  \n",
    "<span style=\"color:orange\">Bad score \n",
    " \n",
    "<span style=\"color:blue\">computegrade()   \n",
    "<span style=\"color:orange\">Enter score: <span style=\"color:blue\">0.75  \n",
    "<span style=\"color:orange\">C \n",
    "\n",
    "<span style=\"color:blue\">computegrade()   \n",
    "<span style=\"color:orange\">Enter score: <span style=\"color:blue\">0.5  \n",
    "<span style=\"color:orange\">F"
   ]
  },
  {
   "cell_type": "code",
   "execution_count": 85,
   "metadata": {},
   "outputs": [
    {
     "name": "stdout",
     "output_type": "stream",
     "text": [
      "Enter score: 1\n",
      "A\n"
     ]
    }
   ],
   "source": [
    "def conputergrade() :\n",
    "    inp = input('Enter score: ')\n",
    "    try :\n",
    "        inp = float(inp)\n",
    "        if inp < 0 or inp > 1 :\n",
    "            print('Bad seore')\n",
    "        elif inp >= 0.9 :\n",
    "            print('A')\n",
    "        elif inp >= 0.8 :\n",
    "            print('B')\n",
    "        elif inp >= 0.7 :\n",
    "            print('C')\n",
    "        elif inp >= 0.6 :\n",
    "            print('D')\n",
    "        elif inp < 0.6 :\n",
    "            print('F')\n",
    "    except :\n",
    "        print('Bad score')\n",
    "\n",
    "conputergrade()"
   ]
  },
  {
   "cell_type": "code",
   "execution_count": null,
   "metadata": {},
   "outputs": [],
   "source": []
  }
 ],
 "metadata": {
  "kernelspec": {
   "display_name": "Python 3",
   "language": "python",
   "name": "python3"
  },
  "language_info": {
   "codemirror_mode": {
    "name": "ipython",
    "version": 3
   },
   "file_extension": ".py",
   "mimetype": "text/x-python",
   "name": "python",
   "nbconvert_exporter": "python",
   "pygments_lexer": "ipython3",
   "version": "3.7.1"
  }
 },
 "nbformat": 4,
 "nbformat_minor": 2
}
