{
 "cells": [
  {
   "cell_type": "code",
   "execution_count": 3,
   "metadata": {},
   "outputs": [
    {
     "name": "stdout",
     "output_type": "stream",
     "text": [
      "가위 바위 보 게임을 시작합니다.\n",
      "R은 바위(Rock), P는 보(Paper), S는 가위(Scissors)를 나타냅니다.\n",
      "\n",
      "R, P, S 중 하나를 입력하세요: P\n",
      "졌습니다\n",
      "\n",
      "한 게임 더 하실래요? (Yes, Y, y, or No, N, n)N\n",
      "점수 you : comp = 0 : 1\n"
     ]
    }
   ],
   "source": [
    "import random\n",
    "\n",
    "def RPS():\n",
    "    print(\"가위 바위 보 게임을 시작합니다.\")\n",
    "    print(\"R은 바위(Rock), P는 보(Paper), S는 가위(Scissors)를 나타냅니다.\")\n",
    "    possible  = ['R','P','S']  \n",
    "       \n",
    "    score_you = 0\n",
    "    \n",
    "    score_comp = 0\n",
    "       \n",
    "    gameIsDone = 0 #(0: 게임 계속, 1: 게임 중단)\n",
    "    \n",
    "    while True:\n",
    "        while True:\n",
    "            print(\"\")\n",
    "            you = input('R, P, S 중 하나를 입력하세요: ')\n",
    "            \n",
    "            if you=='R' or you=='P' or you=='S':                              \n",
    "                break\n",
    "                \n",
    "            else:\n",
    "                print (\"잘못된 입력입니다.\")\n",
    "                print('다시 선택하세요.')                             \n",
    "        \n",
    "        comp = random.choice(possible)\n",
    "        \n",
    "        if you==comp:\n",
    "            print('무승부 입니다!')\n",
    "            \n",
    "        elif you=='R'and comp=='S' or you=='P' and comp=='R' or you=='S' and comp=='P':\n",
    "            print('이겼습니다!')                        \n",
    "            score_you += 1\n",
    "            \n",
    "        else:\n",
    "            print('졌습니다')            \n",
    "            score_comp += 1\n",
    "\n",
    "        print(\"\")\n",
    "\n",
    "        while True:\n",
    "            answer = input('한 게임 더 하실래요? (Yes, Y, y, or No, N, n)')\n",
    "            \n",
    "            if answer== 'Yes'or answer== 'Y'or answer== 'y' :                \n",
    "                gameIsDone = 0\n",
    "                break\n",
    "                \n",
    "            elif answer== 'No' or answer== 'N' or answer == 'n':                      \n",
    "                print ('점수 you : comp =', score_you, ':', score_comp)\n",
    "                gameIsDone = 1\n",
    "                break\n",
    "                \n",
    "            else:                \n",
    "                print('잘못된 입력입니다.')\n",
    "                print('다시 선택하세요.')\n",
    "                print(\"\")\n",
    "                \n",
    "        if gameIsDone == 0:\n",
    "            continue\n",
    "            \n",
    "        else:           \n",
    "            break\n",
    "\n",
    "RPS()"
   ]
  },
  {
   "cell_type": "code",
   "execution_count": null,
   "metadata": {},
   "outputs": [],
   "source": []
  }
 ],
 "metadata": {
  "anaconda-cloud": {},
  "kernelspec": {
   "display_name": "Python 3",
   "language": "python",
   "name": "python3"
  },
  "language_info": {
   "codemirror_mode": {
    "name": "ipython",
    "version": 3
   },
   "file_extension": ".py",
   "mimetype": "text/x-python",
   "name": "python",
   "nbconvert_exporter": "python",
   "pygments_lexer": "ipython3",
   "version": "3.6.5"
  }
 },
 "nbformat": 4,
 "nbformat_minor": 2
}
